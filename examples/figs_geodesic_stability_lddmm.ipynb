{
 "cells": [
  {
   "cell_type": "markdown",
   "metadata": {},
   "source": [
    "## Comparison between the stability of the 3 geodesic shootings schemes proposed for LDDMM\n",
    "\n",
    "\n",
    "\n",
    "You can open your pictures here. "
   ]
  },
  {
   "cell_type": "code",
   "execution_count": 2,
   "metadata": {
    "ExecuteTime": {
     "end_time": "2023-05-16T21:26:39.794064310Z",
     "start_time": "2023-05-16T21:26:36.805861877Z"
    }
   },
   "source": [
    "import torch\n",
    "#from torch.utils.checkpoint import checkpoint # redondant mais necéssaire ...\n",
    "import kornia.filters as flt\n",
    "import matplotlib.pyplot as plt\n",
    "import time\n",
    "from math import log\n",
    "\n",
    "from my_toolbox import update_progress,format_time\n",
    "from constants import *\n",
    "%load_ext autoreload\n",
    "%autoreload 2\n",
    "import demeter.utils.torchbox as tb\n",
    "import demeter.utils.vector_field_to_flow as vff\n",
    "import demeter.metamorphosis as mt\n",
    "\n",
    "#Picture Opening\n",
    "plt.rcParams['figure.figsize'] = [10,20]\n",
    "size = (200,200) # You can set the size here, put None if you want to use the original size\n",
    "S = tb.reg_open('08',size = size) \n",
    "T = tb.reg_open('m0',size = size) \n",
    "if size is None:\n",
    "    _,_,H,W = S.shape\n",
    "    size = (H,W)\n",
    "else:\n",
    "    H,W = size\n",
    "\n",
    "# To blur the pictures with a gaussian kernel of sigma = 3\n",
    "# sig = 3\n",
    "# smooth = flt.GaussianBlur2d((sig*3,sig*3), (sig, sig))\n",
    "# S = smooth(S)\n",
    "# T = smooth(T)\n",
    "\n",
    "\n",
    "\n",
    "id_grid = tb.make_regular_grid(size)\n",
    "\n",
    "# You can try different initial residuals \n",
    "\n",
    "residuals = torch.zeros(size)\n",
    "# # the difference of the source and target image is an interesting initialisation\n",
    "# residuals = (T - S)[0,0,:,:]\n",
    "# # to start over with a already initialized residual.\n",
    "# # residuals = mr_1.to_analyse[0]\n",
    "residuals.requires_grad = True\n",
    "residuals.to('cuda:0')\n",
    "\n",
    "# Show the pictures open\n",
    "plt.rcParams['figure.figsize'] = [10,30]\n",
    "fig,ax = plt.subplots(1,3)\n",
    "ax[0].imshow(S[0,0,:,:],cmap='gray',vmin=0,vmax=1)\n",
    "ax[1].imshow(T[0,0,:,:],cmap='gray',vmin=0,vmax=1)\n",
    "ax[2].imshow(tb.imCmp(S,T),vmin=0,vmax=1)\n",
    "plt.show()"
   ],
   "outputs": []
  },
  {
   "cell_type": "markdown",
   "metadata": {},
   "source": [
    "To prepare the figure, in the article we decided to use a well chosen initial $z$ to demonstrate the shootings.\n",
    " To do so we ran the optimisation process. These cells are for this purpose.\n",
    "\n",
    "You can run the optimisation by yourself, or load the result in the next cell if you don't want to wait for the optimisation to finish. (Loading works only for the example we provide) "
   ]
  },
  {
   "cell_type": "code",
   "execution_count": 3,
   "metadata": {
    "scrolled": false,
    "ExecuteTime": {
     "end_time": "2023-05-16T21:29:21.603324077Z",
     "start_time": "2023-05-16T21:26:42.154956146Z"
    }
   },
   "source": [
    "residuals = torch.zeros(size)\n",
    "# # to start over with a already initialized residual.\n",
    "# # residuals = mr_1.to_analyse[0]\n",
    "residuals.requires_grad = True\n",
    "residuals.to('cuda:0')\n",
    "\n",
    "\n",
    "lamb = 1e-4\n",
    "n_iter = 500\n",
    "sigma=15\n",
    "\n",
    "\n",
    "mr_L = mt.lddmm(S,T,0,sigma=sigma, cost_cst=lamb,integration_steps=20, n_iter=n_iter,grad_coef=10)\n",
    "\n",
    "\n",
    "\n",
    "mr_L.plot()\n",
    "mr_L.plot_deform()"
   ],
   "outputs": []
  },
  {
   "cell_type": "code",
   "execution_count": 4,
   "source": [
    "mr_L.save('08','m0')"
   ],
   "metadata": {
    "collapsed": false,
    "ExecuteTime": {
     "end_time": "2023-05-16T21:29:43.405876275Z",
     "start_time": "2023-05-16T21:29:43.379792127Z"
    }
   },
   "outputs": []
  },
  {
   "cell_type": "markdown",
   "metadata": {
    "pycharm": {
     "name": "#%% md\n"
    }
   },
   "source": [
    "\n",
    "The chosen initial residual is :"
   ]
  },
  {
   "cell_type": "code",
   "execution_count": 5,
   "metadata": {
    "pycharm": {
     "name": "#%%\n"
    },
    "ExecuteTime": {
     "end_time": "2023-05-16T21:29:53.181450749Z",
     "start_time": "2023-05-16T21:29:52.844465833Z"
    }
   },
   "source": [
    "plt.rcParams.update({\n",
    "    \"text.usetex\": False,\n",
    "    \"font.family\": \"sans-serif\",\n",
    "    \"font.sans-serif\": [\"Helvetica\"],\n",
    "    \"font.size\": 22})\n",
    "\n",
    "residuals = mr_L.to_analyse[0]\n",
    "residuals.requires_grad = True\n",
    "residuals.to('cuda')\n",
    "resi_val = max(abs(residuals.min()),abs(residuals.max()))\n",
    "print(f\"residuals min {residuals.min()} max {residuals.max()}, resi_val {resi_val}\")\n",
    "\n",
    "kw_image_args = dict(cmap='gray',\n",
    "                      extent=[-1,1,-1,1],\n",
    "                      origin='lower',\n",
    "                      vmin=0,vmax=1)\n",
    "kw_residuals_args = dict(cmap='RdYlBu_r',\n",
    "                      extent=[-1,1,-1,1],\n",
    "                      origin='lower',\n",
    "                      vmin=-resi_val,vmax=resi_val,   )\n",
    "\n",
    "fig,ax = plt.subplots(1,4)\n",
    "ax[0].imshow(S[0,0,:,:],**kw_image_args)\n",
    "ax[0].set_title(r'source ($I_0$)')\n",
    "\n",
    "ax[1].imshow(T[0,0,:,:],**kw_image_args)\n",
    "ax[1].set_title(r'target ($J$)')\n",
    "\n",
    "ax[2].imshow(tb.imCmp(S,T),**kw_image_args)\n",
    "ax[2].set_title(r'superposion of $I_0$ and $J$')\n",
    "\n",
    "r_ini =ax[3].imshow(residuals[0,0].detach(),**kw_residuals_args)\n",
    "fig.colorbar(r_ini,ax=ax[3],\n",
    "        fraction=0.046, pad=0.04)\n",
    "ax[3].set_title(r'$z_0$')\n",
    "plt.setp(ax, xticks=[], yticks=[])\n"
   ],
   "outputs": []
  },
  {
   "cell_type": "markdown",
   "metadata": {
    "pycharm": {
     "name": "#%% md\n"
    }
   },
   "source": []
  },
  {
   "cell_type": "code",
   "execution_count": 6,
   "metadata": {
    "pycharm": {
     "name": "#%%\n"
    },
    "ExecuteTime": {
     "end_time": "2023-05-16T21:30:07.821567594Z",
     "start_time": "2023-05-16T21:30:00.720677354Z"
    }
   },
   "source": [
    "mu = 0\n",
    "\n",
    "sigma = 15\n",
    "# set plot to a positive integer to see geodesic integrations\n",
    "plot = 0\n",
    "\n",
    "start = time.time()\n",
    "mp_E = mt.Metamorphosis_path(method='Eulerian',\n",
    "                             mu=mu,sigma_v=(sigma,sigma),\n",
    "                             n_step=1000)\n",
    "mp_E.forward(S.clone(),residuals.clone(),plot=plot,verbose=True)\n",
    "end = time.time()\n",
    "print('Eulerian time : ',format_time(end-start))"
   ],
   "outputs": []
  },
  {
   "cell_type": "code",
   "execution_count": 8,
   "metadata": {
    "pycharm": {
     "name": "#%%\n"
    },
    "ExecuteTime": {
     "end_time": "2023-05-16T21:32:31.066857758Z",
     "start_time": "2023-05-16T21:32:30.793679500Z"
    }
   },
   "source": [
    "start = time.time()\n",
    "mp_aL = mt.Metamorphosis_path(method='advection_semiLagrangian',\n",
    "                              mu=mu,sigma_v=(sigma,sigma),n_step=20)\n",
    "mp_aL.forward(S.clone(),residuals.clone(),plot=plot)\n",
    "end = time.time()\n",
    "print('advection semi-Lagrangian time : ',format_time(end-start))\n",
    "\n",
    "start = time.time()\n",
    "mp_L = mt.Metamorphosis_path(method='semiLagrangian',\n",
    "                             mu=mu,sigma_v=(sigma,sigma),n_step=20)\n",
    "mp_L.forward(S.clone(),residuals.clone(),plot=plot)\n",
    "end = time.time()\n",
    "print('semi-Lagrangian time : ',format_time(end-start))\n",
    "\n",
    "\n",
    "temporal_integrator = vff.FieldIntegrator(method='temporal',\n",
    "                                            save=False,\n",
    "                                            dx_convention='pixel')\n",
    "\n",
    "E_deformation = temporal_integrator(mp_E.field_stock/mp_E.n_step,forward=True)\n",
    "aL_deformation = temporal_integrator(mp_aL.field_stock/mp_aL.n_step,forward=True)\n",
    "L_deformation = temporal_integrator(mp_L.field_stock/mp_L.n_step,forward=True)"
   ],
   "outputs": []
  },
  {
   "cell_type": "markdown",
   "metadata": {},
   "source": [
    "The figure as it is computed here present some instabilities, try increasing n_step "
   ]
  },
  {
   "cell_type": "code",
   "execution_count": 9,
   "metadata": {
    "pycharm": {
     "name": "#%%\n"
    },
    "ExecuteTime": {
     "end_time": "2023-05-16T21:16:57.474035836Z",
     "start_time": "2023-05-16T21:16:56.246743366Z"
    }
   },
   "source": [
    "plot_id = torch.quantile(torch.arange(mp_L.n_step,dtype=torch.float),\n",
    "                                 torch.linspace(0,1,4)).round().int()\n",
    "# plot_id= plot_id[1:]\n",
    "plot_id_E = torch.quantile(torch.arange(mp_E.n_step,dtype=torch.float),\n",
    "                                 torch.linspace(0,1,4)).round().int()\n",
    "# plot_id_E= plot_id_E[1:]\n",
    "%matplotlib qt\n",
    "size_fig = 5\n",
    "step = int(min(mp_E.field_stock.shape[2:-1])/30)\n",
    "plt.rcParams['figure.figsize'] = [size_fig*5,6*size_fig]\n",
    "fig_me,ax_me = plt.subplots(6,5)\n",
    "\n",
    "for i,t in enumerate(plot_id_E):\n",
    "    i_1 =ax_me[0,i].imshow(mp_E.image_stock[t,0,:,:].detach().numpy(),\n",
    "            **kw_image_args)\n",
    "    ax_me[0,i].set_title(r\"$I_t$ for $t =$ \"+str((t/(mp_E.n_step-1)).item())[:3])\n",
    "    fig_me.colorbar(i_1,ax=ax_me[0,i],fraction=0.046, pad=0.04)\n",
    "\n",
    "    r_1 =ax_me[1,i].imshow(mp_E.residuals_stock[t,0,:,:].detach().numpy(),\n",
    "            **kw_residuals_args)\n",
    "    ax_me[1,i].set_title(r\"$z_t$ for $t = $\"+str((t/(mp_E.n_step-1)).item())[:3])\n",
    "    fig_me.colorbar(r_1,ax=ax_me[1,i],fraction=0.046, pad=0.04)\n",
    "\n",
    "# ax_me[0,-1].imshow(tb.imCmp(mp_E.image,T))\n",
    "# ax_me[0,-1].set_title(r\"Comparaison $I_1$ vs $J$\")\n",
    "\n",
    "\n",
    "\n",
    "tb.gridDef_plot(E_deformation,ax = ax_me[1,-1],step=step, dx_convention='pixel')\n",
    "ax_me[1,-1].set_title(r\"$\\Phi_1$\")\n",
    "\n",
    "for i,t in enumerate(plot_id):\n",
    "    i_2 =ax_me[2,i].imshow(mp_aL.image_stock[t,0,:,:].detach().numpy(),\n",
    "            **kw_image_args)\n",
    "    ax_me[2,i].set_title(r\"$I_t$ for $t =$ \"+str((t/(mp_aL.n_step-1)).item())[:3])\n",
    "    fig_me.colorbar(i_2,ax=ax_me[2,i],fraction=0.046, pad=0.04)\n",
    "\n",
    "    r_2 =ax_me[3,i].imshow(mp_aL.residuals_stock[t,0,:,:].detach().numpy(),\n",
    "            **kw_residuals_args)\n",
    "    ax_me[3,i].set_title(r\"$z_t$ for $t = $\"+str((t/(mp_aL.n_step-1)).item())[:3])\n",
    "    fig_me.colorbar(r_2,ax=ax_me[3,i],fraction=0.046, pad=0.04)\n",
    "\n",
    "    i_3 =ax_me[4,i].imshow(mp_L.image_stock[t,0,:,:].detach().numpy(),\n",
    "            **kw_image_args)\n",
    "    ax_me[4,i].set_title(r\"$I_t$ for $t =$ \"+str((t/(mp_aL.n_step-1)).item())[:3])\n",
    "    fig_me.colorbar(i_3,ax=ax_me[4,i],fraction=0.046, pad=0.04)\n",
    "\n",
    "    r_3 =ax_me[5,i].imshow(mp_L.residuals_stock[t,0,:,:].detach().numpy(),\n",
    "            **kw_residuals_args)\n",
    "    ax_me[5,i].set_title(r\"$z_t$ for $t = $\"+str((t/(mp_L.n_step-1)).item())[:3])\n",
    "    fig_me.colorbar(r_3,ax=ax_me[5,i],fraction=0.046, pad=0.04)\n",
    "\n",
    "# ax_me[2,-1].imshow(tb.imCmp(mp_aL.image,T))\n",
    "# ax_me[2,-1].set_title(r\"Comparaison $I_1$ vs J\")\n",
    "tb.gridDef_plot(aL_deformation,ax = ax_me[3,-1],step=step, dx_convention='pixel')\n",
    "ax_me[3,-1].set_title(r\"$\\Phi_1$\")\n",
    "\n",
    "# ax_me[4,-1].imshow(tb.imCmp(mp_L.image,T))\n",
    "# ax_me[4,-1].set_title(r\"Comparaison $I_1$ vs T\")\n",
    "tb.gridDef_plot(L_deformation,ax = ax_me[5,-1],step=step, dx_convention='pixel')\n",
    "ax_me[5,-1].set_title(r\"$\\Phi_1$\")\n",
    "\n",
    "plt.setp(ax_me, xticks=[], yticks=[])"
   ],
   "outputs": []
  },
  {
   "cell_type": "code",
   "execution_count": 15,
   "source": [
    "from constants import *\n",
    "mp_L.save_to_gif('image','semiLagrangian',folder='stability',clean=False)"
   ],
   "metadata": {
    "collapsed": false,
    "ExecuteTime": {
     "end_time": "2023-05-16T21:22:11.132420404Z",
     "start_time": "2023-05-16T21:22:11.084639093Z"
    }
   },
   "outputs": []
  },
  {
   "cell_type": "code",
   "execution_count": null,
   "source": [],
   "metadata": {
    "collapsed": false
   },
   "outputs": []
  }
 ],
 "metadata": {
  "kernelspec": {
   "display_name": "Python 3",
   "language": "python",
   "name": "python3"
  },
  "language_info": {
   "codemirror_mode": {
    "name": "ipython",
    "version": 3
   },
   "file_extension": ".py",
   "mimetype": "text/x-python",
   "name": "python",
   "nbconvert_exporter": "python",
   "pygments_lexer": "ipython3",
   "version": "3.8.5"
  }
 },
 "nbformat": 4,
 "nbformat_minor": 2
}
