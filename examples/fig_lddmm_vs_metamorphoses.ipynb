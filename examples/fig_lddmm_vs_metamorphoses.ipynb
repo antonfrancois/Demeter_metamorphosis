{
 "cells": [
  {
   "cell_type": "markdown",
   "metadata": {
    "collapsed": true,
    "pycharm": {
     "name": "#%% md\n"
    }
   },
   "source": [
    "# LDDMM vs Metamorphoses\n",
    "## Figure from the article.\n",
    "\n",
    "\n",
    "We start by opening the pictures and preparing all variable we need."
   ]
  },
  {
   "cell_type": "code",
   "execution_count": 1,
   "metadata": {
    "pycharm": {
     "name": "#%%\n"
    }
   },
   "source": [
    "import torch\n",
    "import time\n",
    "import kornia.filters as flt\n",
    "import matplotlib.pyplot as plt\n",
    "\n",
    "\n",
    "from demeter.utils.toolbox import update_progress,format_time#, get_freer_gpu\n",
    "import demeter.utils.torchbox as tb\n",
    "import demeter.utils.vector_field_to_flow as vff\n",
    "import demeter.metamorphosis as mt\n",
    "\n",
    "\n",
    "plt.rcParams['figure.figsize'] = [10,20]\n",
    "size = (200,200)\n",
    "S = tb.reg_open('m0t',size = size)\n",
    "T = tb.reg_open('m1',size = size)\n",
    "T[:,:,70:80,:100] = 0\n",
    "# T=T*S.max()\n",
    "if size is None:\n",
    "    _,_,H,W = S.shape\n",
    "    size = (H,W)\n",
    "else:\n",
    "    H,W = size\n",
    "\n",
    "if False:\n",
    "    sig = 1\n",
    "    smooth = flt.GaussianBlur2d((sig*6+1,sig*6+1), (sig, sig))\n",
    "    S = smooth(S)\n",
    "    T = smooth(T)\n",
    "\n",
    "\n",
    "id_grid = tb.make_regular_grid(size)\n",
    "field = id_grid.clone()\n",
    "\n",
    "\n",
    "# Select gpu or cpu\n",
    "cuda = torch.cuda.is_available()\n",
    "device = 'cpu'\n",
    "if cuda:\n",
    "    device = torch.device('cuda:0')\n",
    "   # device = get_freer_gpu()\n",
    "    \n",
    "print('device selected : ',device)\n",
    "\n",
    "residuals_l = torch.zeros(size)\n",
    "residuals_l.requires_grad = True\n",
    "residuals_l.to(device)\n",
    "residuals_m = torch.zeros(size)\n",
    "residuals_m.requires_grad = True\n",
    "residuals_m.to(device)\n",
    "\n",
    "plt.rcParams['figure.figsize'] = [30,10]\n",
    "fig,ax = plt.subplots(1,3)\n",
    "ax[0].imshow(S[0,0,:,:],cmap='gray',vmin=0,vmax=1)\n",
    "ax[1].imshow(T[0,0,:,:],cmap='gray',vmin=0,vmax=1)\n",
    "ax[2].imshow(tb.imCmp(S,T),vmin=0,vmax=1)"
   ],
   "outputs": []
  },
  {
   "cell_type": "markdown",
   "metadata": {
    "pycharm": {
     "name": "#%% md\n"
    }
   },
   "source": [
    "Now let's run the experiments,\n",
    "\n",
    "The optimisation can take some time depending on the GPU you have, if you want to save some time you can load the initials residuals $z_0$ and use a smaller number of iterations (five will be enough). If you do so, note that you have to load images of the right size (150x150)."
   ]
  },
  {
   "cell_type": "code",
   "execution_count": null,
   "metadata": {
    "pycharm": {
     "name": "#%%\n"
    }
   },
   "source": [
    "# If you want to load the residuals, \n",
    "residuals_l = torch.load('residuals_banks/residuals_fig_mu00_lambm6_150')\n",
    "residuals_m = torch.load('residuals_banks/residuals_fig_mu035_lambm6_150')\n",
    "\n"
   ],
   "outputs": []
  },
  {
   "cell_type": "code",
   "execution_count": 11,
   "metadata": {
    "pycharm": {
     "name": "#%%\n"
    }
   },
   "source": [
    "residuals_l = torch.zeros(size,device=device)\n",
    "residuals_l.requires_grad = True\n",
    "\n",
    "\n",
    "\n",
    "sigma_v = 15 # sigma of the reproducing kernel (the size of the kernel will be 3*sigma_v)\n",
    "n_step = 15 # the time step will be dt = 1/n_step\n",
    "n_iter = 20 # gradient descent iterations.\n",
    "grad_dt = 5000 # gradient descent multiplicator\n",
    "\n",
    "# LDDMM optimisation\n",
    "start = time.time()\n",
    "mu,lamb = (0,.0001)\n",
    "# initilisation of the geodesic shooting method\n",
    "mp_lddmm = mt.Metamorphosis_path(method ='semiLagrangian',\n",
    "                                 mu=mu,rho=0,sigma_v=(sigma_v,sigma_v),n_step=n_step)\n",
    "# initialisation of the gradient descent using the geodesic shooting method\n",
    "mr_lddmm = mt.Optimize_metamorphosis(S,T,mp_lddmm,\n",
    "                                     cost_cst=lamb,\n",
    "                                     optimizer_method='adadelta')\n",
    "# optimisation\n",
    "print(\"\\nLDDMM geodesic shooting has started :\")\n",
    "mr_lddmm.forward(residuals_l,n_iter=300,grad_coef=10000)\n",
    "end = time.time()\n",
    "print(\"Computation done in : \",format_time(end - start))\n",
    "mr_lddmm.plot_cost()"
   ],
   "outputs": []
  },
  {
   "cell_type": "code",
   "execution_count": 13,
   "metadata": {
    "pycharm": {
     "name": "#%%\n"
    }
   },
   "source": [
    "residuals_m = torch.zeros(size,device=device)\n",
    "residuals_m.requires_grad = True\n",
    "# Metamorphosis optimisation\n",
    "start = time.time()\n",
    "lamb,rho,mu = (.00001,1,0.032)\n",
    "rho = 50*mu\n",
    "mp_meta = mt.Metamorphosis_path(method ='semiLagrangian',mu=mu,rho=rho,sigma_v=(sigma_v,sigma_v),n_step=n_step)\n",
    "mr_meta = mt.Optimize_metamorphosis(S,T,mp_meta,\n",
    "                                       cost_cst=lamb,\n",
    "                                       optimizer_method='adadelta')\n",
    "print(\"\\nMetamorphic geodesic shooting has started :\")\n",
    "mr_meta.forward(residuals_m,n_iter=200,grad_coef=1000)\n",
    "end = time.time()\n",
    "print(\"Computation done in : \",format_time(end - start))\n",
    "\n",
    "\n",
    "mr_meta.plot_cost()\n",
    "mp_meta.plot()"
   ],
   "outputs": []
  },
  {
   "cell_type": "markdown",
   "metadata": {
    "pycharm": {
     "name": "#%% md\n"
    }
   },
   "source": [
    "We can now save the optimized residuals for further usage"
   ]
  },
  {
   "cell_type": "code",
   "execution_count": 14,
   "metadata": {
    "pycharm": {
     "name": "#%%\n"
    }
   },
   "source": [
    "# recovering the optimized residuals.\n",
    "residuals_l = mr_lddmm.to_analyse[0]\n",
    "residuals_m = mr_meta.to_analyse[0]\n",
    "\n",
    "v_abs_max = max(residuals_l.abs().max(),residuals_m.abs().max())\n",
    "kw_residuals_args = dict(cmap='RdYlBu_r',\n",
    "                      extent=[-1,1,-1,1],\n",
    "                      origin='lower',\n",
    "                      vmin=-v_abs_max,\n",
    "                      vmax=v_abs_max\n",
    "                    )\n",
    "\n",
    "\n",
    "# plot\n",
    "plt.rcParams['figure.figsize'] = [30,10]\n",
    "\n",
    "fig_r,ax_r = plt.subplots(1,2)\n",
    "r1 = ax_r[0].imshow(residuals_l.detach(),**kw_residuals_args)\n",
    "ax_r[0].set_title(\"z_0 for LDDMM\")\n",
    "fig_r.colorbar(r1,ax= ax_r[0])\n",
    "r2 = ax_r[1].imshow(residuals_m.detach(),**kw_residuals_args)\n",
    "ax_r[1].set_title(\"z_0 for Metamorphosis\")\n",
    "fig_r.colorbar(r2,ax= ax_r[1])\n",
    "plt.setp(ax_r, xticks=[], yticks=[])\n",
    "\n",
    "# set back parameters needed for optimisation\n",
    "residuals_l.requires_grad =True\n",
    "residuals_l.to(device)\n",
    "residuals_m.requires_grad =True\n",
    "residuals_m.to(device)"
   ],
   "outputs": []
  },
  {
   "cell_type": "code",
   "execution_count": 39,
   "metadata": {
    "pycharm": {
     "name": "#%%\n"
    }
   },
   "source": [
    "path = '/home/turtlefox/Documents/Doctorat/gliomorph/figs/metamorphoses/'\n",
    "format = 'pdf'\n",
    "fig_r.savefig(path+'c_cut_residuls_200.'+format,dpi=50,format=format,\n",
    "             bbox_inches = 'tight',pad_inches = 0)"
   ],
   "outputs": []
  },
  {
   "cell_type": "code",
   "execution_count": 4,
   "metadata": {
    "pycharm": {
     "name": "#%%\n"
    }
   },
   "source": [
    "torch.save(residuals_l,'residuals_banks/residuals_fig_mu00_lambm6_'+str(size[0]))\n",
    "torch.save(residuals_l,'residuals_banks/residuals_fig_mu035_lambm6_'+str(size[0]))"
   ],
   "outputs": []
  },
  {
   "cell_type": "markdown",
   "metadata": {
    "pycharm": {
     "name": "#%% md\n"
    }
   },
   "source": []
  },
  {
   "cell_type": "code",
   "execution_count": 15,
   "metadata": {
    "pycharm": {
     "name": "#%%\n"
    }
   },
   "source": [
    "\n",
    "# Defomation computation. We compose all vectors fields from the geodesic shooting \n",
    "temporal_integrator = vff.FieldIntegrator(method='temporal',save=False,dx_convention='pixel')\n",
    "# Theses deformation are used for grid plotting\n",
    "deformation_lddmm = temporal_integrator(mr_lddmm.mp.field_stock/n_step,forward=True)\n",
    "deformation_meta = temporal_integrator(mr_meta.mp.field_stock/n_step,forward=True)\n",
    "\n",
    "# Theses are the inverse deformation used for actual image deformation\n",
    "deformator_lddmm = temporal_integrator(mr_lddmm.mp.field_stock/n_step,forward=False)\n",
    "deformator_meta = temporal_integrator(mr_meta.mp.field_stock/n_step,forward=False)\n",
    "\n",
    "\n",
    " #Plot\n",
    "plt.rcParams.update({\n",
    "    \"text.usetex\": False,\n",
    "    \"font.family\": \"sans-serif\",\n",
    "    \"font.sans-serif\": [\"Helvetica\"],\n",
    "    \"font.size\": 22})\n",
    "\n",
    "\n",
    "kw_image_args = dict(cmap='gray',\n",
    "                      #extent=[-1,1,-1,1],\n",
    "                      origin='lower')\n",
    "\n",
    "n_figs= 5\n",
    "\n",
    "plot_id = torch.quantile(torch.arange(mp_lddmm.n_step,dtype=torch.float),\n",
    "                                 torch.linspace(0,1,n_figs)).round().int()\n",
    "# plot_id= plot_id[:-1]\n",
    "\n",
    "cmap = 'gray'\n",
    "kw_image_args = dict(cmap='gray',\n",
    "                      extent=[-1,1,-1,1],\n",
    "                      origin='lower',\n",
    "                      vmin=0,vmax=1)\n",
    "\n",
    "size_fig = 5\n",
    "plt.rcParams['figure.figsize'] = [n_figs*size_fig,size_fig*3*5/6]\n",
    "fig2,ax = plt.subplots(3,n_figs)\n",
    "\n",
    "ax[0,0].imshow(S[0,0],**kw_image_args)\n",
    "ax[0,0].set_title(r\"Source ($I_0$)\")\n",
    "ax[0,1].imshow(T[0,0],**kw_image_args)\n",
    "ax[0,1].set_title(r\"Target ($J$)\")\n",
    "ax[0,2].imshow(tb.imCmp(S,T),**kw_image_args)\n",
    "ax[0,2].set_title(r\"Superposition of $I_0$ and $J$\")\n",
    "\n",
    "tb.gridDef_plot(deformation_lddmm,step=int(max(S.shape)/25),ax = ax[0,-2],\n",
    "                         check_diffeo=False,title=\"LDDMM\")\n",
    "tb.gridDef_plot(deformation_meta,step=int(max(S.shape)/25),ax = ax[0,-1],\n",
    "                         check_diffeo=False,title=\"Metamorphoses\")\n",
    "\n",
    "imcmp = True\n",
    "if imcmp:\n",
    "    plot_id = plot_id[:-1]\n",
    "for i,t in enumerate(plot_id):\n",
    "    i_1 =ax[1,i].imshow(mr_lddmm.mp.image_stock[t,0,:,:].detach().numpy(),\n",
    "            **kw_image_args)\n",
    "    ax[1,i].set_title(r\"$I_t$ for $t =$ \"+str((t/(mp_lddmm.n_step-1)).item())[:3])\n",
    "    #fig2.colorbar(i_1,ax=ax[1,i],fraction=0.046, pad=0.04)\n",
    "\n",
    "    i_3 =ax[2,i].imshow(mr_meta.mp.image_stock[t,0,:,:].detach().numpy(),\n",
    "            **kw_image_args)\n",
    "    ax[2,i].set_title(r\"$I_t$ for $t =$ \"+str((t/(mp_meta.n_step-1)).item())[:3])\n",
    "    #fig2.colorbar(i_3,ax=ax[2,i],fraction=0.046, pad=0.04)\n",
    "\n",
    "plt.setp(ax, xticks=[], yticks=[])\n",
    "\n",
    "if imcmp:\n",
    "    ax[1,-1].imshow(tb.imCmp(mr_lddmm.mp.image,T),**kw_image_args)\n",
    "    ax[1,-1].set_title(r\"$I_t$ for $t =1$\")\n",
    "    ax[2,-1].imshow(tb.imCmp(mr_meta.mp.image,T),**kw_image_args)\n",
    "    ax[2,-1].set_title(r\"$I_t$ for $t =1$\")\n"
   ],
   "outputs": []
  },
  {
   "cell_type": "code",
   "execution_count": 43,
   "metadata": {
    "pycharm": {
     "name": "#%%\n"
    }
   },
   "source": [
    "path = '/home/turtlefox/Documents/Doctorat/gliomorph/figs/metamorphoses/'\n",
    "format = 'pdf'\n",
    "fig2.savefig(path+'c_cut_imagesFlow_200.'+format,dpi=50,format=format,\n",
    "             bbox_inches = 'tight',pad_inches = 0)"
   ],
   "outputs": []
  },
  {
   "cell_type": "markdown",
   "metadata": {
    "pycharm": {
     "name": "#%% md\n"
    }
   },
   "source": [
    "The colored images are made for comparison in between two gray scale pictures, by stacking them in\n",
    "separate channels. So yellows areas are where the two images matches whereas red and green area are\n",
    "the image specific ones."
   ]
  }
 ],
 "metadata": {
  "kernelspec": {
   "display_name": "Python 3 (ipykernel)",
   "language": "python",
   "name": "python3"
  },
  "language_info": {
   "codemirror_mode": {
    "name": "ipython",
    "version": 3
   },
   "file_extension": ".py",
   "mimetype": "text/x-python",
   "name": "python",
   "nbconvert_exporter": "python",
   "pygments_lexer": "ipython3",
   "version": "3.8.11"
  }
 },
 "nbformat": 4,
 "nbformat_minor": 1
}
