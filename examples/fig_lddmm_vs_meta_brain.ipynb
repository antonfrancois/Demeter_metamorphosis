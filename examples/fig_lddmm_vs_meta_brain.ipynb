{
 "cells": [
  {
   "cell_type": "markdown",
   "metadata": {
    "collapsed": true,
    "pycharm": {
     "name": "#%% md\n"
    }
   },
   "source": [
    "# LDDMM vs Metamorphoses\n",
    "## Bonus Experiment\n",
    "\n",
    "\n",
    "We start by opening the pictures and preparing all variable we need.\n",
    "You can use pre-made images, or construct the play exemple from scratch"
   ]
  },
  {
   "cell_type": "code",
   "execution_count": 1,
   "source": [
    "import torch\n",
    "import time\n",
    "import matplotlib.pyplot as plt\n",
    "import numpy as np\n",
    "\n",
    "\n",
    "import demeter.utils.toolbox as tb_np\n",
    "import demeter.utils.torchbox as tb\n",
    "import demeter.utils.bspline as mbs\n",
    "import demeter.utils.vector_field_to_flow as vff\n",
    "import demeter.metamorphosis as mt\n",
    "\n",
    "# Select gpu or cpu\n",
    "cuda = torch.cuda.is_available()\n",
    "device = 'cpu'\n",
    "if cuda:\n",
    "    device = torch.device('cuda:0')\n",
    "   #device = get_freer_gpu()\n",
    "print('device selected : ',device)"
   ],
   "metadata": {
    "collapsed": false,
    "pycharm": {
     "name": "#%%\n"
    }
   },
   "outputs": []
  },
  {
   "cell_type": "code",
   "execution_count": 2,
   "source": [
    "plt.rcParams['figure.figsize'] = [10,20]\n",
    "size = (300,int((300)*5/6))\n",
    "S = tb.reg_open('b0',size = size)\n",
    "T = tb.reg_open('b11',size = size)\n",
    "# T=T*S.max()\n",
    "if size is None:\n",
    "    _,_,H,W = S.shape\n",
    "    size = (H,W)\n",
    "else:\n",
    "    H,W = size\n",
    "\n",
    "if False:\n",
    "    sig = 1\n",
    "    smooth = flt.GaussianBlur2d((sig*6+1,sig*6+1), (sig, sig))\n",
    "    S = smooth(S)\n",
    "    T = smooth(T)\n",
    "\n",
    "\n",
    "\n",
    "\n",
    "plt.rcParams['figure.figsize'] = [30,10]\n",
    "fig,ax = plt.subplots(1,3)\n",
    "ax[0].imshow(S[0,0,:,:],cmap='gray',vmin=0,vmax=1)\n",
    "ax[1].imshow(T[0,0,:,:],cmap='gray',vmin=0,vmax=1)\n",
    "ax[2].imshow(tb.imCmp(S,T),vmin=0,vmax=1)"
   ],
   "metadata": {
    "collapsed": false,
    "pycharm": {
     "name": "#%%\n"
    }
   },
   "outputs": []
  },
  {
   "cell_type": "markdown",
   "source": [
    "If you decide to make make a custom example please follow the next steps\n",
    "\n",
    "\n",
    "Let's open our \"template healthy brain example\" which is an healthy brain."
   ],
   "metadata": {
    "collapsed": false,
    "pycharm": {
     "name": "#%% md\n"
    }
   }
  },
  {
   "cell_type": "code",
   "execution_count": 2,
   "source": [
    "s = 200\n",
    "size = (s,int(s*5/6))\n",
    "# size = None\n",
    "image_kwarg = dict(cmap = 'gray',vmin = 0,vmax = 1)\n",
    "S = tb.reg_open('b0',size=size)\n",
    "\n",
    "if size is None:\n",
    "    _,_,H,W = S.shape\n",
    "    size = (H,W)\n",
    "else:\n",
    "    H,W = size\n",
    "\n",
    "plt.imshow(S[0,0],**image_kwarg)"
   ],
   "metadata": {
    "collapsed": false,
    "pycharm": {
     "name": "#%%\n"
    }
   },
   "outputs": []
  },
  {
   "cell_type": "markdown",
   "source": [
    "We know make grow a cancer into the brain\n",
    "First we need to place it as a small ball"
   ],
   "metadata": {
    "collapsed": false
   }
  },
  {
   "cell_type": "code",
   "execution_count": 3,
   "source": [
    "_,_,H,W = S.shape\n",
    "dx_convention = '2square'\n",
    "id_grid = tb.make_regular_grid((H,W),dx_convention=dx_convention)\n",
    "\n",
    "# cancer initialisation\n",
    "XX , YY = np.meshgrid(range(W),range(H))\n",
    "\n",
    "# Feel free to play with theses parameters\n",
    "centre = (.62,.25)\n",
    "necrosis_size = (.025,.01) # (height,width)\n",
    "edema_size = (.04,.02) # (height,width)\n",
    "\n",
    "bool_necrosis = tb_np.full_ellipse(XX/(W-1),YY/(H-1),necrosis_size[0],necrosis_size[1],centre)\n",
    "bool_eudema = tb_np.full_ellipse(XX/(W-1),YY/(H-1),edema_size[0],edema_size[1],centre)\n",
    "\n",
    "plt.imshow(tb_np.imCmp(bool_eudema,bool_necrosis))\n",
    "\n",
    "S_np = S[0,0].clone().numpy()\n",
    "S_np[bool_eudema] = .9\n",
    "S_np[bool_necrosis] = .1\n",
    "# bool_ellispe = full_ellipse(id_grid[0,:,:,0],id_grid[0,:,:,1],10,10,(150,320))\n",
    "plt.rcParams['figure.figsize'] = [5,5]\n",
    "plt.figure()\n",
    "plt.imshow(S_np,**image_kwarg)"
   ],
   "metadata": {
    "collapsed": false,
    "pycharm": {
     "name": "#%%\n"
    }
   },
   "outputs": []
  },
  {
   "cell_type": "markdown",
   "source": [
    "Let know construct a field to make 'grow' the cancer."
   ],
   "metadata": {
    "collapsed": false
   }
  },
  {
   "cell_type": "code",
   "execution_count": 4,
   "source": [
    "\"\"\"\n",
    "cms = torch.tensor([\n",
    "    [\n",
    "        [0.,  0,  0,  0,  0,  0,  0,  0,  0],\n",
    "        [0,  0,  0,  0,  0,  0,  0,  0,  0],\n",
    "        [0,  0,  0,  0,  0,  0,  0,  0,  0],\n",
    "        [0,  0,  0,  0,  0,  0,  0,  0,  0],\n",
    "        [0,  0,-.05,  -.2,  -.05,  0,  0,  0,  0],\n",
    "        [0,  0,  0,  -.25,  0,  0,  0,  0,  0],\n",
    "        [0,  0,  .05,  .1,  .05,  0,  0,  0,  0],\n",
    "        [0,  0,  0,  0,  0,  0,  0,  0,  0],\n",
    "        [0,  0,  0,  0,  0,  0,  0,  0,  0]\n",
    "    ],\n",
    "    [\n",
    "        [0,  0,  0,  0,  0,  0,  0,  0,  0],\n",
    "        [0,  0,  0,  0,  0,  0,  0,  0,  0],\n",
    "        [0,  0,  0,  0,  0,  0,  0,  0,  0],\n",
    "        [0,  0,  0,  0,  0,  0,  0,  0,  0],\n",
    "        [0,  0,  -.05,  0, .05,  0,  0,  0,  0],\n",
    "        [0,  0, -.2,  .25, .2,  0,  0,  0,  0],\n",
    "        [0,  0,  -.05,  0,.05,  0,  0,  0,  0],\n",
    "        [0,  0,  0,  0,  0,  0,  0,  0,  0],\n",
    "        [0,  0,  0,  0,  0,  0,  0,  0,  0]\n",
    "    ]\n",
    "    ]\n",
    ")\n",
    "\"\"\"\n",
    "cms = torch.tensor([\n",
    "    [\n",
    "        [0.,  0,  0,  0,  0,  0,  0,  0,  0],\n",
    "        [0,  0,  0,  0,  0,  0,  0,  0,  0],\n",
    "        [0,  0,  0,  0,  0,  0,  0,  0,  0],\n",
    "        [0,  0,  0,  0,  0,  0,  0,  0,  0],\n",
    "        [0,  0,  0,  0,  0,  0,  0,  0,  0],\n",
    "        [0,  0,  .2,  0,  0,  0,  0,  0,  0],\n",
    "        [0,  0,  .1,  0,  0,  0,  0,  0,  0],\n",
    "        [0,  0,  0,  0,  0,  0,  0,  0,  0],\n",
    "        [0,  0,  0,  0,  0,  0,  0,  0,  0]\n",
    "    ],\n",
    "    [\n",
    "        [0,  0,  0,  0,  0,  0,  0,  0,  0],\n",
    "        [0,  0,  0,  0,  0,  0,  0,  0,  0],\n",
    "        [0,  0,  0,  0,  0,  0,  0,  0,  0],\n",
    "        [0,  0,  0,  0,  0,  0,  0,  0,  0],\n",
    "        [0,  0,-.1,  0,  0,  0,  0,  0,  0],\n",
    "        [0,  0,-.2,  .75,  .3,  0,  0,  0,  0],\n",
    "        [0,  0,-.1,  0,  0,  0,  0,  0,  0],\n",
    "        [0,  0,  0,  0,  0,  0,  0,  0,  0],\n",
    "        [0,  0,  0,  0,  0,  0,  0,  0,  0]\n",
    "    ]\n",
    "    ]\n",
    ")\n",
    "\n",
    "# Building the deformation\n",
    "# vector field construiction from control matrix cms\n",
    "field = mbs.field2D_bspline(cms*.5,(W,H),dim_stack=2,degree=(2,2)).unsqueeze(0)\n",
    "print(field.size())\n",
    "# Computation of a deformation from the field\n",
    "fast_exp= vff.FieldIntegrator(method='fast_exp',save = False,dx_convention=dx_convention)\n",
    "deff_diff = fast_exp(field.clone(),forward= True)\n",
    "deff_diffor = fast_exp(field.clone(),forward = False)\n",
    "# S = torch.tensor(S_np)[None,None]\n",
    "# make the cancer grow\n",
    "S_deformed = tb.imgDeform(torch.tensor(S_np)[None,None],deff_diffor,dx_convention=dx_convention)\n",
    "\n",
    "# Let also retrieve a mask for later\n",
    "mask = tb.imgDeform(torch.tensor(bool_eudema)[None,None].float(),\n",
    "                    deff_diffor,dx_convention=dx_convention)\n",
    "\n",
    "\n",
    "plt.rcParams['figure.figsize'] = [20,20]\n",
    "fig,ax = plt.subplots(2,2)\n",
    "tb.quiver_plot(deff_diff - id_grid ,\n",
    "               step=10,ax=ax[0,0],color='gray',dx_convention=dx_convention)\n",
    "tb.gridDef_plot(deff_diff,\n",
    "                add_grid=False,step=10,ax=ax[0,0],color='green',dx_convention=dx_convention)\n",
    "ax[0,1].imshow(mask[0,0],**image_kwarg)\n",
    "\n",
    "ax[1,0].imshow(S_deformed[0,0],**image_kwarg)\n",
    "\n",
    "ax[1,1].imshow(tb.imCmp(S,S_deformed))\n"
   ],
   "metadata": {
    "collapsed": false,
    "pycharm": {
     "name": "#%%\n"
    }
   },
   "outputs": []
  },
  {
   "cell_type": "markdown",
   "source": [
    "## LDDMM and Metamorphosis Application\n",
    "\n",
    "\n",
    "Now let's run the experiments,\n",
    "\n",
    "The optimisation can take some time depending on the GPU you have, if you want to save some time you can load the initials residuals $z_0$ and use a smaller number of iterations (five will be enough). If you do so, note that you have to load images of the right size (150x150).\n"
   ],
   "metadata": {
    "collapsed": false
   }
  },
  {
   "cell_type": "code",
   "execution_count": 28,
   "source": [
    "id_grid = tb.make_regular_grid(size)\n",
    "field = id_grid.clone()\n",
    "\n",
    "residuals_l = torch.zeros(size)\n",
    "residuals_l.requires_grad = True\n",
    "residuals_l.to(device)\n",
    "residuals_m = torch.zeros(size)\n",
    "residuals_m.requires_grad = True\n",
    "residuals_m.to(device)"
   ],
   "metadata": {
    "collapsed": false,
    "pycharm": {
     "name": "#%%\n"
    }
   },
   "outputs": []
  },
  {
   "cell_type": "code",
   "execution_count": 7,
   "source": [
    "# If you want to load the residuals,\n",
    "residuals_l = torch.load('residuals_banks/fileofyourchoosing')\n",
    "residuals_m = torch.load('residuals_banks/fileofyourchoosing')\n",
    "\n"
   ],
   "metadata": {
    "collapsed": false,
    "pycharm": {
     "name": "#%%\n"
    }
   },
   "outputs": []
  },
  {
   "cell_type": "code",
   "execution_count": 29,
   "source": [
    "T = S_deformed.clone()\n",
    "sigma_v = 10 # sigma of the reproducing kernel (the size of the kernel will be 3*sigma_v)\n",
    "n_step = 10  # the time step will be dt = 1/n_step\n",
    "# n_iter = 75 # gradient descent iterations.\n",
    "grad_dt = .1 # gradient descent multiplicator\n",
    "\n",
    "# LDDMM optimisation\n",
    "start = time.time()\n",
    "lamb,mu,rho = (.000001,0,0)\n",
    "# initilisation of the geodesic shooting method\n",
    "mp_lddmm = mt.metamorphosis_path(method ='semiLagrangian',\n",
    "                                 mu=mu,sigma_v=sigma_v,n_step=n_step)\n",
    "# initialisation of the gradient descent using the geodesic shooting method\n",
    "mr_lddmm = mt.optimize_geodesicShooting(S,T,mp_lddmm,\n",
    "                                        dict(lamb=lamb,rho = 0),\n",
    "                                     optimizer_method='LBFGS_torch')\n",
    "# optimisation\n",
    "mr_lddmm.forward(residuals_l,n_iter=30,grad_coef=.1)\n",
    "end = time.time()\n",
    "print(\"Computation done in : \",tb_np.format_time(end - start))\n",
    "mr_lddmm.plot_cost()\n",
    "\n",
    "# Metamorphosis optimisation\n",
    "start = time.time()\n",
    "lamb,mu,rho = (1e-6,1e-4,5e-1)\n",
    "mp_meta = mt.metamorphosis_path(method ='semiLagrangian',\n",
    "                                mu=mu,sigma_v=sigma_v,n_step=n_step)\n",
    "mr_meta = mt.mr_sl_m = mt.optimize_geodesicShooting(S,T,mp_meta,\n",
    "                                    dict(lamb=lamb,rho = rho),\n",
    "                                    optimizer_method='LBFGS_torch')\n",
    "mr_meta.forward(residuals_m,n_iter=100,grad_coef=.1)\n",
    "end = time.time()\n",
    "print(\"Computation done in : \",tb_np.format_time(end - start))\n",
    "\n"
   ],
   "metadata": {
    "collapsed": false,
    "pycharm": {
     "name": "#%%\n"
    }
   },
   "outputs": []
  },
  {
   "cell_type": "code",
   "execution_count": 30,
   "source": [
    "mr_meta.plot()\n",
    "mr_meta.mp.plot_deform(T)\n",
    "plt.figure()\n",
    "plt.imshow(T[0,0],cmap='gray',origin='lower')"
   ],
   "metadata": {
    "collapsed": false,
    "pycharm": {
     "name": "#%%\n"
    }
   },
   "outputs": []
  },
  {
   "cell_type": "markdown",
   "source": [
    "We can now save the optimized residuals for further usage"
   ],
   "metadata": {
    "collapsed": false
   }
  },
  {
   "cell_type": "code",
   "execution_count": 31,
   "source": [
    "# recovering the optimized residuals.\n",
    "residuals_l = mr_lddmm.to_analyse[0]\n",
    "residuals_m = mr_meta.to_analyse[0]\n",
    "\n",
    "kw_residuals_args = dict(cmap='RdYlBu_r',\n",
    "                      extent=[-1,1,-1,1],\n",
    "                      origin='lower',\n",
    "                      vmin=torch.minimum(residuals_l.min(),residuals_m.min()),\n",
    "                      vmax=torch.maximum(residuals_l.max(),residuals_m.max()))\n",
    "\n",
    "\n",
    "# plot\n",
    "plt.rcParams['figure.figsize'] = [30,10]\n",
    "\n",
    "fig_r,ax_r = plt.subplots(1,2)\n",
    "r1 = ax_r[0].imshow(residuals_l.detach(),**kw_residuals_args)\n",
    "ax_r[0].set_title(\"z_0 for LDDMM\")\n",
    "fig_r.colorbar(r1,ax= ax_r[0])\n",
    "r2 = ax_r[1].imshow(residuals_m.detach(),**kw_residuals_args)\n",
    "ax_r[1].set_title(\"z_0 for Metamorphosis\")\n",
    "fig_r.colorbar(r2,ax= ax_r[1])\n",
    "plt.setp(ax_r, xticks=[], yticks=[])\n",
    "\n",
    "# set back parameters needed for optimisation\n",
    "residuals_l.requires_grad =True\n",
    "residuals_l.to(device)\n",
    "residuals_m.requires_grad =True\n",
    "residuals_m.to(device)\n"
   ],
   "metadata": {
    "collapsed": false,
    "pycharm": {
     "name": "#%%\n"
    }
   },
   "outputs": []
  },
  {
   "cell_type": "code",
   "execution_count": null,
   "source": [
    "torch.save(residuals_l,'residuals_banks/residuals_fig_mu00_lambm6_'+str(size[0]))\n",
    "torch.save(residuals_l,'residuals_banks/residuals_fig_mu035_lambm6_'+str(size[0]))"
   ],
   "metadata": {
    "collapsed": false,
    "pycharm": {
     "name": "#%%\n"
    }
   },
   "outputs": []
  },
  {
   "cell_type": "markdown",
   "source": [],
   "metadata": {
    "collapsed": false
   }
  },
  {
   "cell_type": "code",
   "execution_count": 32,
   "source": [
    "\n",
    "# Defomation computation. We compose all vectors fields from the geodesic shooting\n",
    "temporal_integrator = vff.FieldIntegrator(method='temporal',save=False,dx_convention='pixel')\n",
    "# Theses deformation are used for grid plotting\n",
    "deformation_lddmm = temporal_integrator(mr_lddmm.mp.field_stock/n_step,forward=True)\n",
    "deformation_meta = temporal_integrator(mr_meta.mp.field_stock/n_step,forward=True)\n",
    "\n",
    "# Theses are the inverse deformation used for actual image deformation\n",
    "deformator_lddmm = temporal_integrator(mr_lddmm.mp.field_stock/n_step,forward=False)\n",
    "deformator_meta = temporal_integrator(mr_meta.mp.field_stock/n_step,forward=False)\n",
    "\n",
    "\n",
    " #Plot\n",
    "plt.rcParams.update({\n",
    "    \"text.usetex\": False,\n",
    "    \"font.family\": \"sans-serif\",\n",
    "    \"font.sans-serif\": [\"Helvetica\"],\n",
    "    \"font.size\": 22})\n",
    "\n",
    "\n",
    "kw_image_args = dict(cmap='gray',\n",
    "                      extent=[-1,1,-1,1],\n",
    "                      origin='lower')\n",
    "\n",
    "n_figs= 5\n",
    "\n",
    "plot_id = torch.quantile(torch.arange(mp_lddmm.n_step,dtype=torch.float),\n",
    "                                 torch.linspace(0,1,n_figs)).round().int()\n",
    "# plot_id= plot_id[:-1]\n",
    "\n",
    "cmap = 'gray'\n",
    "kw_image_args = dict(cmap='gray',\n",
    "                      extent=[-1,1,-1,1],\n",
    "                      origin='lower',\n",
    "                      vmin=0,vmax=1)\n",
    "\n",
    "size_fig = 5\n",
    "plt.rcParams['figure.figsize'] = [n_figs*size_fig,size_fig*3*5/6]\n",
    "fig2,ax = plt.subplots(3,n_figs)\n",
    "\n",
    "ax[0,0].imshow(S[0,0],**kw_image_args)\n",
    "ax[0,0].set_title(r\"Source ($I_0$)\")\n",
    "ax[0,1].imshow(T[0,0],**kw_image_args)\n",
    "ax[0,1].set_title(r\"Target ($J$)\")\n",
    "ax[0,2].imshow(tb.imCmp(S,T),**kw_image_args)\n",
    "ax[0,2].set_title(r\"Superposition of $I_0$ and $J$\")\n",
    "\n",
    "tb.gridDef_plot(deformation_lddmm,step=int(max(S.shape)/25),ax = ax[0,-2],\n",
    "                         check_diffeo=False,title=\"LDDMM\")\n",
    "tb.gridDef_plot(deformation_meta,step=int(max(S.shape)/25),ax = ax[0,-1],\n",
    "                         check_diffeo=False,title=\"Metamorphoses\")\n",
    "\n",
    "imcmp = False\n",
    "if imcmp:\n",
    "    plot_id = plot_id[:-1]\n",
    "for i,t in enumerate(plot_id):\n",
    "    i_1 =ax[1,i].imshow(mr_lddmm.mp.image_stock[t,0,:,:].detach().numpy(),\n",
    "            **kw_image_args)\n",
    "    ax[1,i].set_title(r\"$I_t$ for $t =$ \"+str((t/(mp_lddmm.n_step-1)).item())[:3])\n",
    "    #fig2.colorbar(i_1,ax=ax[1,i],fraction=0.046, pad=0.04)\n",
    "\n",
    "    i_3 =ax[2,i].imshow(mr_meta.mp.image_stock[t,0,:,:].detach().numpy(),\n",
    "            **kw_image_args)\n",
    "    ax[2,i].set_title(r\"$I_t$ for $t =$ \"+str((t/(mp_meta.n_step-1)).item())[:3])\n",
    "    #fig2.colorbar(i_3,ax=ax[2,i],fraction=0.046, pad=0.04)\n",
    "\n",
    "plt.setp(ax, xticks=[], yticks=[])\n",
    "\n",
    "if imcmp:\n",
    "    ax[1,-1].imshow(tb.imCmp(mr_lddmm.mp.image,T),**kw_image_args)\n",
    "    ax[1,-1].set_title(r\"$I_t$ for $t =1$\")\n",
    "    ax[2,-1].imshow(tb.imCmp(mr_meta.mp.image,T),**kw_image_args)\n",
    "    ax[2,-1].set_title(r\"$I_t$ for $t =1$\")\n"
   ],
   "metadata": {
    "collapsed": false,
    "pycharm": {
     "name": "#%%\n"
    }
   },
   "outputs": []
  },
  {
   "cell_type": "code",
   "execution_count": null,
   "source": [
    "path = 'demeter/figs/metamorphoses/'\n",
    "format = 'pdf'\n",
    "fig2.savefig(path+'brain_imagesFlow_300.'+format,dpi=50,format=format,\n",
    "             bbox_inches = 'tight',pad_inches = 0)"
   ],
   "metadata": {
    "collapsed": false,
    "pycharm": {
     "name": "#%%\n"
    }
   },
   "outputs": []
  },
  {
   "cell_type": "markdown",
   "source": [
    "The colored images are made for comparison in between two gray scale pictures, by stacking them in\n",
    "separate channels. So yellows areas are where the two images matches whereas red and green area are\n",
    "the image specific ones.\n",
    "\n",
    "\n"
   ],
   "metadata": {
    "collapsed": false
   }
  }
 ],
 "metadata": {
  "kernelspec": {
   "display_name": "Python 3",
   "language": "python",
   "name": "python3"
  },
  "language_info": {
   "codemirror_mode": {
    "name": "ipython",
    "version": 2
   },
   "file_extension": ".py",
   "mimetype": "text/x-python",
   "name": "python",
   "nbconvert_exporter": "python",
   "pygments_lexer": "ipython2",
   "version": "2.7.6"
  }
 },
 "nbformat": 4,
 "nbformat_minor": 0
}
