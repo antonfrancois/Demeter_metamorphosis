{
  "cells": [
    {
      "cell_type": "markdown",
      "metadata": {
        "id": "view-in-github",
        "colab_type": "text"
      },
      "source": [
        "<a href=\"https://colab.research.google.com/github/antonfrancois/Demeter_metamorphosis/blob/experiment%2Fsimplex_pixyl/examples/pixyl_param_search.ipynb\" target=\"_parent\"><img src=\"https://colab.research.google.com/assets/colab-badge.svg\" alt=\"Open In Colab\"/></a>"
      ]
    },
    {
      "cell_type": "markdown",
      "source": [
        "0.1 First run if need to clone"
      ],
      "metadata": {
        "id": "3Xu0ODpjz_Ma"
      },
      "id": "3Xu0ODpjz_Ma"
    },
    {
      "cell_type": "code",
      "source": [
        "!git clone --branch experiment/simplex_pixyl https://github.com/antonfrancois/Demeter_metamorphosis.git"
      ],
      "metadata": {
        "id": "YHWowKSJtIgd",
        "outputId": "9e8d63ef-684c-4da0-f5b0-ea21a433cb2e",
        "colab": {
          "base_uri": "https://localhost:8080/"
        }
      },
      "id": "YHWowKSJtIgd",
      "execution_count": 1,
      "outputs": [
        {
          "output_type": "stream",
          "name": "stdout",
          "text": [
            "Cloning into 'Demeter_metamorphosis'...\n",
            "remote: Enumerating objects: 5001, done.\u001b[K\n",
            "remote: Counting objects: 100% (1298/1298), done.\u001b[K\n",
            "remote: Compressing objects: 100% (594/594), done.\u001b[K\n",
            "remote: Total 5001 (delta 871), reused 1042 (delta 668), pack-reused 3703 (from 1)\u001b[K\n",
            "Receiving objects: 100% (5001/5001), 602.80 MiB | 27.56 MiB/s, done.\n",
            "Resolving deltas: 100% (3206/3206), done.\n",
            "Updating files: 100% (161/161), done.\n"
          ]
        }
      ]
    },
    {
      "cell_type": "code",
      "source": [
        "import subprocess\n",
        "\n",
        "cwd = subprocess.check_output(\"pwd\", text=True).strip()\n",
        "if not \"Demeter\" in cwd:\n",
        "\t%cd Demeter_metamorphosis/\n",
        "\n",
        "\n",
        "print(\"\\nInstalation of demeter from pip\")\n",
        "!pip install -e .\n",
        "!pip install -e .\n",
        "# !git fetch\n",
        "# !git checkout experiment/simplex_pixyl\n",
        "\n",
        "repo_path = os.path.abspath('.')\n",
        "# repo_path = \"/content/Demeter_metamorphosis/\"\n",
        "if repo_path not in sys.path:\n",
        "\tsys.path.insert(0, repo_path)\n",
        "print(sys.path)"
      ],
      "metadata": {
        "id": "wMYnl7AB0Pf2"
      },
      "id": "wMYnl7AB0Pf2",
      "execution_count": null,
      "outputs": []
    },
    {
      "cell_type": "markdown",
      "source": [
        "0.2 If cloning is aleady done."
      ],
      "metadata": {
        "id": "ksVN853B0GwG"
      },
      "id": "ksVN853B0GwG"
    },
    {
      "cell_type": "code",
      "source": [
        "!git pull"
      ],
      "metadata": {
        "id": "zukRsRWSxOTR",
        "outputId": "1ec92b67-2671-4ed4-ce6f-b7456a736f8a",
        "colab": {
          "base_uri": "https://localhost:8080/"
        }
      },
      "id": "zukRsRWSxOTR",
      "execution_count": 6,
      "outputs": [
        {
          "output_type": "stream",
          "name": "stdout",
          "text": [
            "Updating dcea8b8..3bd4cfc\n",
            "Fast-forward\n",
            " examples/pixyl_utils.py      | 2 \u001b[32m+\u001b[m\u001b[31m-\u001b[m\n",
            " pyproject.toml               | 2 \u001b[32m+\u001b[m\u001b[31m-\u001b[m\n",
            " src/demeter/utils/toolbox.py | 2 \u001b[32m+\u001b[m\u001b[31m-\u001b[m\n",
            " 3 files changed, 3 insertions(+), 3 deletions(-)\n"
          ]
        }
      ]
    },
    {
      "cell_type": "code",
      "source": [
        "import sys\n",
        "import os\n",
        "\n",
        "\n",
        "# Remplace par le chemin relatif où se trouve le package 'demeter'\n",
        "# Exemple : si ton notebook est dans le dossier root du repo, et demeter est un sous-dossier\n",
        "import subprocess\n",
        "cwd = subprocess.check_output(\"pwd\", text=True).strip()\n",
        "if not \"Demeter\" in cwd:\n",
        "\t%cd Demeter_metamorphosis/\n",
        "\n",
        "# repo_path = os.path.abspath('.')\n",
        "repo_path = \"/content/Demeter_metamorphosis/\"\n",
        "if repo_path not in sys.path:\n",
        "\tsys.path.insert(0, repo_path)\n",
        "print(sys.path)"
      ],
      "metadata": {
        "id": "gj3dJs10tO6R",
        "outputId": "0849b1e2-f900-4860-8743-6b6a26a8185d",
        "colab": {
          "base_uri": "https://localhost:8080/"
        }
      },
      "id": "gj3dJs10tO6R",
      "execution_count": 3,
      "outputs": [
        {
          "output_type": "stream",
          "name": "stdout",
          "text": [
            "/content/Demeter_metamorphosis\n",
            "['/content/Demeter_metamorphosis/', '/content', '/env/python', '/usr/lib/python311.zip', '/usr/lib/python3.11', '/usr/lib/python3.11/lib-dynload', '', '/usr/local/lib/python3.11/dist-packages', '/content/Demeter_metamorphosis/src', '/usr/lib/python3/dist-packages', '/usr/local/lib/python3.11/dist-packages/IPython/extensions', '/usr/local/lib/python3.11/dist-packages/setuptools/_vendor', '/root/.ipython']\n"
          ]
        }
      ]
    },
    {
      "cell_type": "code",
      "source": [
        "import sys\n",
        "import os\n",
        "print(sys.path)"
      ],
      "metadata": {
        "id": "W7l0y5UlyGEi",
        "outputId": "7b7bd307-8152-41f7-caed-49338f8be417",
        "colab": {
          "base_uri": "https://localhost:8080/"
        }
      },
      "id": "W7l0y5UlyGEi",
      "execution_count": 1,
      "outputs": [
        {
          "output_type": "stream",
          "name": "stdout",
          "text": [
            "['/content', '/env/python', '/usr/lib/python311.zip', '/usr/lib/python3.11', '/usr/lib/python3.11/lib-dynload', '', '/usr/local/lib/python3.11/dist-packages', '/content/Demeter_metamorphosis/src', '/usr/lib/python3/dist-packages', '/usr/local/lib/python3.11/dist-packages/IPython/extensions', '/usr/local/lib/python3.11/dist-packages/setuptools/_vendor', '/root/.ipython']\n"
          ]
        }
      ]
    },
    {
      "cell_type": "markdown",
      "source": [
        "# Mount drive to get data and place to save data."
      ],
      "metadata": {
        "id": "U8dPFDsc0rjf"
      },
      "id": "U8dPFDsc0rjf"
    },
    {
      "cell_type": "code",
      "source": [
        "from google.colab import drive\n",
        "drive.mount('/content/drive')"
      ],
      "metadata": {
        "id": "GSCsOmoa0pMR",
        "outputId": "cc4144f8-d560-463e-8862-a70ead1ad504",
        "colab": {
          "base_uri": "https://localhost:8080/"
        }
      },
      "id": "GSCsOmoa0pMR",
      "execution_count": 8,
      "outputs": [
        {
          "output_type": "stream",
          "name": "stdout",
          "text": [
            "Mounted at /content/drive\n"
          ]
        }
      ]
    },
    {
      "metadata": {
        "id": "4e54ba3deec95512"
      },
      "cell_type": "markdown",
      "source": [
        "# imports"
      ],
      "id": "4e54ba3deec95512"
    },
    {
      "cell_type": "code",
      "id": "initial_id",
      "metadata": {
        "collapsed": true,
        "ExecuteTime": {
          "end_time": "2025-05-22T22:39:03.723958Z",
          "start_time": "2025-05-22T22:39:01.453598Z"
        },
        "id": "initial_id",
        "outputId": "568e69db-efb6-4b4a-ab24-bf8bd0a391a6",
        "colab": {
          "base_uri": "https://localhost:8080/"
        }
      },
      "source": [
        "from matplotlib import pyplot as plt\n",
        "\n",
        "# import __init__\n",
        "import os, math, time\n",
        "import sys, csv\n",
        "import torch\n",
        "\n",
        "import demeter.utils.reproducing_kernels as rk\n",
        "import demeter.metamorphosis as mt\n",
        "from demeter.constants import ROOT_DIRECTORY\n",
        "import examples.pixyl_utils as pu\n",
        "from demeter.utils.toolbox import convert_bytes_size\n",
        "import demeter.utils.image_3d_plotter as i3p\n"
      ],
      "outputs": [
        {
          "output_type": "stream",
          "name": "stderr",
          "text": [
            "/usr/local/lib/python3.11/dist-packages/kornia/feature/lightglue.py:44: FutureWarning: `torch.cuda.amp.custom_fwd(args...)` is deprecated. Please use `torch.amp.custom_fwd(args..., device_type='cuda')` instead.\n",
            "  @torch.cuda.amp.custom_fwd(cast_inputs=torch.float32)\n"
          ]
        },
        {
          "output_type": "stream",
          "name": "stdout",
          "text": [
            "saves_overview.csv\n"
          ]
        }
      ],
      "execution_count": 5
    },
    {
      "metadata": {
        "ExecuteTime": {
          "end_time": "2025-05-22T22:39:07.493212Z",
          "start_time": "2025-05-22T22:39:07.481087Z"
        },
        "id": "820099200ca53bc0"
      },
      "cell_type": "code",
      "source": [
        "def perform_simplex_ref(source, target, save_gpu, kernelOperator, rho):\n",
        "\n",
        "\n",
        "\n",
        "    # if 'turtlefox' in ROOT_DIRECTORY:\n",
        "    #     plot_simplex(source, slc)\n",
        "\n",
        "\n",
        "\n",
        "    # subdiv = 10\n",
        "    # sigma = rk.get_sigma_from_img_ratio(source.shape,subdiv = subdiv)\n",
        "    # kernelOperator = rk.GaussianRKHS(sigma, kernel_reach=6, normalized=True)\n",
        "\n",
        "    # sigma = (.01,.01,.1)\n",
        "    # dx = tuple([1./(s-1) for s in source.shape[2:]])\n",
        "    # kernelOperator = rk.VolNormalizedGaussianRKHS(\n",
        "    #     sigma,\n",
        "    #     sigma_convention=\"continuous\",\n",
        "    #     dx=dx,\n",
        "    #     kernel_reach=6\n",
        "    # )\n",
        "\n",
        "\n",
        "    # rk.plot_gaussian_kernel_3d(kernelOperator.kernel, sigma=sigma)\n",
        "    # plt.show()\n",
        "\n",
        "\n",
        "\n",
        "    data_cost = mt.Ssd_normalized(target)\n",
        "    # data_cost = None\n",
        "    dx_convention = \"pixel\"\n",
        "    source = source.to(device)\n",
        "    target = target.to(device)\n",
        "\n",
        "    print(\"source\", source.min(), source.max())\n",
        "    rho = 1\n",
        "    ic(rho)\n",
        "\n",
        "    torch.cuda.empty_cache()\n",
        "    torch.cuda.reset_peak_memory_stats(device)\n",
        "    torch.cuda.synchronize()\n",
        "\n",
        "    try:\n",
        "        start = time.time()\n",
        "\n",
        "        # from torch.profiler import profile, record_function, ProfilerActivity\n",
        "\n",
        "        # with profile(\n",
        "        #     activities=[ProfilerActivity.CPU, ProfilerActivity.CUDA],\n",
        "        #     profile_memory=True\n",
        "        # ) as prof:\n",
        "        #     with record_function(\"simplex_metamorphosis\"):\n",
        "        mr = mt.simplex_metamorphosis(source, target, 0,\n",
        "                        rho= rho,\n",
        "                       kernelOperator=kernelOperator,\n",
        "                        data_term=data_cost,\n",
        "                       cost_cst=.001,\n",
        "                       integration_steps=10,\n",
        "                       n_iter=5,\n",
        "                       grad_coef=10,\n",
        "                      dx_convention=dx_convention,\n",
        "                      save_gpu_memory=save_gpu,\n",
        "                    lbfgs_history_size = 5\n",
        "        )\n",
        "        ic(mr)\n",
        "        torch.cuda.synchronize()\n",
        "        exec_time = time.time() - start\n",
        "        mem_usage = torch.cuda.max_memory_allocated()\n",
        "        # print(prof.key_averages().table(sort_by=\"self_cuda_memory_usage\", row_limit=10))\n",
        "\n",
        "        print('-_'*15)\n",
        "        print(\"size : \",source.shape,  \"save gpu\", save_gpu)\n",
        "        print(\"memory used : \" ,convert_bytes_size(mem_usage))\n",
        "        print('-_'*15)\n",
        "        print(\"\\n\")\n",
        "    except torch.OutOfMemoryError:\n",
        "        print(\"OUT OF MEMORY\")\n",
        "        return None, None, None,  source.shape\n",
        "\n",
        "    return mr, mem_usage, exec_time, source.shape\n",
        "\n",
        "\n",
        "    #%%\n",
        "def plot_mr(mr, slice, resize_factor):\n",
        "    slc = tuple( [int(s * r) for s, r in zip(slice, resize_factor)])\n",
        "    rho = mr.mp.rho\n",
        "    name = f\"{patient}_{source_fol}_to_{target_fol}_meta_rho{rho}\"\n",
        "    if 'turtlefox' in ROOT_DIRECTORY:\n",
        "        mr.plot_cost()\n",
        "        plt.show()\n",
        "        ic.disable()\n",
        "        i3p.Visualize_GeodesicOptim_plt(mr, name)\n",
        "        plt.show()\n",
        "    else:\n",
        "        out_path = os.path.join(\n",
        "            \"/gpfs/users/francoisa/RadioAide_Preprocessing\",\n",
        "            \"imgs/pixyl_reg\"\n",
        "        )\n",
        "\n",
        "        t_img = i3p.SimplexToHSV(mr.mp.image_stock.cpu(), is_last_background=True).to_rgb()\n",
        "        ic(t_img.shape)\n",
        "        # t = 4\n",
        "        for t in range(t_img.shape[0]):\n",
        "            fig, ax = plt.subplots(1,3, constrained_layout=True, figsize=(15,5))\n",
        "            ax[0].imshow(t_img[t,:,:,slc[2]].transpose(1,0,2), aspect=\"auto\", origin=\"lower\")\n",
        "            ax[1].imshow(t_img[t,:, slc[1], :].transpose(1,0,2), aspect=\"auto\", origin=\"lower\")\n",
        "            ax[2].imshow(t_img[t,slc[0],:,:].transpose(1,0,2), aspect=\"auto\", origin=\"lower\")\n",
        "\n",
        "            line_color = \"red\"\n",
        "            _l_x_v = ax[0].axvline(x=slc[0], color=line_color, alpha=0.6)\n",
        "            _l_x_h = ax[0].axhline(y=slc[1], color=line_color, alpha=0.6)\n",
        "            _l_y_v = ax[1].axvline(x=slc[0], color=line_color, alpha=0.6)\n",
        "            _l_y_h = ax[1].axhline(y=slc[2], color=line_color, alpha=0.6)\n",
        "            _l_z_v = ax[2].axvline(x=slc[1], color=line_color, alpha=0.6)\n",
        "            _l_z_h = ax[2].axhline(y=slc[2], color=line_color, alpha=0.6)\n",
        "\n",
        "            title = name+ f\" t = {t}\"\n",
        "            fig.suptitle(title, fontsize=20)\n",
        "            fig.savefig(out_path+'/'+title+\"_meso.png\")\n",
        "            plt.show()\n",
        "\n",
        "    mr.save(name, light_save=True)\n"
      ],
      "id": "820099200ca53bc0",
      "outputs": [],
      "execution_count": 13
    },
    {
      "metadata": {
        "ExecuteTime": {
          "end_time": "2025-05-22T22:39:21.373378Z",
          "start_time": "2025-05-22T22:39:12.822834Z"
        },
        "id": "fe02894efdf351a3",
        "outputId": "96aeafe8-7078-4f62-d075-6d3b84836d2e",
        "colab": {
          "base_uri": "https://localhost:8080/"
        }
      },
      "cell_type": "code",
      "source": [
        "device = 'cuda:0'\n",
        "if 'turtlefox' in ROOT_DIRECTORY:\n",
        "    path = \"/home/turtlefox/Documents/11_metamorphoses/data/pixyl/aligned\"\n",
        "elif \"content\" in ROOT_DIRECTORY:\n",
        "    path = \"/content/drive/MyDrive/demeter_data/aligned\"\n",
        "else:\n",
        "    path = \"/gpfs/workdir/francoisa/data/aligned\"\n",
        "\n",
        "rf = .6\n",
        "resize_factor = (rf, rf, 1)\n",
        "\n",
        "patient, my_slice  = \"PSL_001\", (200,270,50)\n",
        "# patient, slice  = \"PSL_007\", (300,180,25)\n",
        "source_fol = \"M21\"\n",
        "target_fol = \"M30\"\n",
        "# source_fol = \"M10\"\n",
        "# target_fol = \"M14\"\n",
        "rf_slice = tuple([s*r for s, r in zip(my_slice, resize_factor)])\n",
        "\n",
        "save_gpu = True\n",
        "source = pu.path_to_simplex(os.path.join(path,patient,f\"{patient}_{source_fol}\"),\n",
        "                                resize_factors=resize_factor,\n",
        "                                key = 'LB_prob'\n",
        "                                )\n",
        "target = pu.path_to_simplex(\n",
        "    os.path.join(path,patient,f\"{patient}_{target_fol}\"),\n",
        "    resize_factors=resize_factor,\n",
        "    key = 'LB_prob'\n",
        ")\n",
        "print(\"source : \", source.shape, source.min().item(), source.max().item())\n",
        "print(\"target; \", target.shape, target.min().item(), target.max().item())"
      ],
      "id": "fe02894efdf351a3",
      "outputs": [
        {
          "output_type": "stream",
          "name": "stdout",
          "text": [
            "\tAdding : PSL_001_M21_to_PSL_001_LB_prob_necrosis.nii.gz\n",
            "\tAdding : PSL_001_M21_to_PSL_001_LB_prob_wm.nii.gz\n",
            "\tAdding : PSL_001_M21_to_PSL_001_LB_prob_basal.nii.gz\n",
            "\tAdding : PSL_001_M21_to_PSL_001_LB_prob_ventricles.nii.gz\n",
            "\tAdding : PSL_001_M21_to_PSL_001_LB_prob_gm.nii.gz\n",
            "\tAdding : PSL_001_M21_to_PSL_001_LB_prob_gde.nii.gz\n",
            "\tAdding : PSL_001_M21_to_PSL_001_LB_prob_thalamus.nii.gz\n",
            "\tAdding : PSL_001_M21_to_PSL_001_LB_prob_wmh_edema.nii.gz\n",
            "\t len(proba_f) 8\n",
            "\tAdding : PSL_001_M30_to_PSL_001_LB_prob_necrosis.nii.gz\n",
            "\tAdding : PSL_001_M30_to_PSL_001_LB_prob_wm.nii.gz\n",
            "\tAdding : PSL_001_M30_to_PSL_001_LB_prob_basal.nii.gz\n",
            "\tAdding : PSL_001_M30_to_PSL_001_LB_prob_ventricles.nii.gz\n",
            "\tAdding : PSL_001_M30_to_PSL_001_LB_prob_gm.nii.gz\n",
            "\tAdding : PSL_001_M30_to_PSL_001_LB_prob_gde.nii.gz\n",
            "\tAdding : PSL_001_M30_to_PSL_001_LB_prob_thalamus.nii.gz\n",
            "\tAdding : PSL_001_M30_to_PSL_001_LB_prob_wmh_edema.nii.gz\n",
            "\t len(proba_f) 8\n",
            "source :  torch.Size([1, 9, 230, 230, 100]) 0.0 1.0\n",
            "target;  torch.Size([1, 9, 230, 230, 100]) 0.0 1.0\n"
          ]
        }
      ],
      "execution_count": 23
    },
    {
      "metadata": {
        "ExecuteTime": {
          "end_time": "2025-05-22T22:40:45.258140Z",
          "start_time": "2025-05-22T22:39:23.592678Z"
        },
        "id": "74f39cd50a8733e8",
        "outputId": "eced3545-7724-4824-accb-53baa3d70826",
        "colab": {
          "base_uri": "https://localhost:8080/",
          "height": 402
        }
      },
      "cell_type": "code",
      "source": [
        "sigma = (.1,.1,.1)\n",
        "dx = tuple([1./(s-1) for s in source.shape[2:]])\n",
        "# dx = (1, 1, 1)\n",
        "k = 3\n",
        "kernelOperator = rk.All_Scale_Anisotropic_Normalized_Gaussian_RKHS(\n",
        "        sigma=sigma,\n",
        "        k = k,\n",
        "        dx=dx,\n",
        "        sigma_convention='continuous'\n",
        "    )\n",
        "\n",
        "\n",
        "print(kernelOperator)\n",
        "print(kernelOperator.kernel.max())\n",
        "\n",
        "rho = 1\n",
        "\n",
        "mr, mem, time_exec, img_shape = perform_simplex_ref(source, target, save_gpu, kernelOperator, rho)\n",
        "\n",
        "mr.save(f\"{patient}_{source_fol}_to_{target_fol}_simplex_rho{rho}\", light_save=True, save_path=\"/content/drive/MyDrive/demeter_optim\")"
      ],
      "id": "74f39cd50a8733e8",
      "outputs": [
        {
          "output_type": "stream",
          "name": "stdout",
          "text": [
            "(3,)\n",
            "All_Scale_Anisotropic_Normalized_Gaussian_RKHS+            (\n",
            "\tsigma=tensor([22.9000, 22.9000,  9.9000]),\n",
            "\tsigma_continuous=tensor([0.1000, 0.1000, 0.1000]),\n",
            "\t k=3,\n",
            "\t dx=(0.004366812227074236, 0.004366812227074236, 0.010101010101010102),\n",
            "\t kernel_size=torch.Size([1, 115, 115, 49])\n",
            ")\n",
            "tensor(0.0118)\n"
          ]
        },
        {
          "output_type": "stream",
          "name": "stderr",
          "text": [
            "ic| <ipython-input-13-6a30f1907dd6>:37 in perform_simplex_ref()\n",
            "    rho: 1\n"
          ]
        },
        {
          "output_type": "stream",
          "name": "stdout",
          "text": [
            "source tensor(0., device='cuda:0', dtype=torch.float64) tensor(1., device='cuda:0', dtype=torch.float64)\n",
            "OUT OF MEMORY\n"
          ]
        },
        {
          "output_type": "error",
          "ename": "AttributeError",
          "evalue": "'NoneType' object has no attribute 'save'",
          "traceback": [
            "\u001b[0;31m---------------------------------------------------------------------------\u001b[0m",
            "\u001b[0;31mAttributeError\u001b[0m                            Traceback (most recent call last)",
            "\u001b[0;32m<ipython-input-24-28e116334e3e>\u001b[0m in \u001b[0;36m<cell line: 0>\u001b[0;34m()\u001b[0m\n\u001b[1;32m     18\u001b[0m \u001b[0mmr\u001b[0m\u001b[0;34m,\u001b[0m \u001b[0mmem\u001b[0m\u001b[0;34m,\u001b[0m \u001b[0mtime_exec\u001b[0m\u001b[0;34m,\u001b[0m \u001b[0mimg_shape\u001b[0m \u001b[0;34m=\u001b[0m \u001b[0mperform_simplex_ref\u001b[0m\u001b[0;34m(\u001b[0m\u001b[0msource\u001b[0m\u001b[0;34m,\u001b[0m \u001b[0mtarget\u001b[0m\u001b[0;34m,\u001b[0m \u001b[0msave_gpu\u001b[0m\u001b[0;34m,\u001b[0m \u001b[0mkernelOperator\u001b[0m\u001b[0;34m,\u001b[0m \u001b[0mrho\u001b[0m\u001b[0;34m)\u001b[0m\u001b[0;34m\u001b[0m\u001b[0;34m\u001b[0m\u001b[0m\n\u001b[1;32m     19\u001b[0m \u001b[0;34m\u001b[0m\u001b[0m\n\u001b[0;32m---> 20\u001b[0;31m \u001b[0mmr\u001b[0m\u001b[0;34m.\u001b[0m\u001b[0msave\u001b[0m\u001b[0;34m(\u001b[0m\u001b[0;34mf\"{patient}_{source_fol}_to_{target_fol}_simplex_rho{rho}\"\u001b[0m\u001b[0;34m,\u001b[0m \u001b[0mlight_save\u001b[0m\u001b[0;34m=\u001b[0m\u001b[0;32mTrue\u001b[0m\u001b[0;34m,\u001b[0m \u001b[0msave_path\u001b[0m\u001b[0;34m=\u001b[0m\u001b[0;34m\"/content/drive/MyDrive/demeter_optim\"\u001b[0m\u001b[0;34m)\u001b[0m\u001b[0;34m\u001b[0m\u001b[0;34m\u001b[0m\u001b[0m\n\u001b[0m",
            "\u001b[0;31mAttributeError\u001b[0m: 'NoneType' object has no attribute 'save'"
          ]
        }
      ],
      "execution_count": 24
    },
    {
      "cell_type": "code",
      "source": [
        "del mr"
      ],
      "metadata": {
        "id": "8FgsUp-f5_NI"
      },
      "id": "8FgsUp-f5_NI",
      "execution_count": 20,
      "outputs": []
    },
    {
      "metadata": {
        "ExecuteTime": {
          "end_time": "2025-05-22T23:18:45.891309Z",
          "start_time": "2025-05-22T23:18:45.485809Z"
        },
        "id": "aaa1afbe13683041"
      },
      "cell_type": "code",
      "source": [
        "from demeter.constants import set_ticks_off\n",
        "import demeter.utils.torchbox as tb\n",
        "import numpy as np\n",
        "\n",
        "def make_3d_flat(img_3D, slice):\n",
        "    print(\"img_3D.shape : \",img_3D.shape)\n",
        "    if len(img_3D.shape) == 4:\n",
        "        img_list = [make_3d_flat(img_3D[...,i],slice) for i in range(img_3D.shape[-1])]\n",
        "        return np.stack(img_list, axis=-1)\n",
        "    elif len(img_3D.shape) != 3:\n",
        "        raise ValueError(f\"img_3D has wrong shape: {img_3D.shape}\")\n",
        "\n",
        "\n",
        "    im0 = tb.image_slice(img_3D, slice[0], 2).T\n",
        "    im1 = tb.image_slice(img_3D, slice[1], 1).T\n",
        "    im2 = tb.image_slice(img_3D, slice[2], 0).T\n",
        "\n",
        "    crop = 20\n",
        "    im0_np = im0\n",
        "    im1_np = im1[::-1]\n",
        "    im2_np = im2[::-1]\n",
        "\n",
        "    # On réduit uniquement si nécessaire\n",
        "    im0_np = im0_np[:, crop // 2: -crop // 2] if crop < im0_np.shape[1] else im0_np\n",
        "    im1_np = im1_np[:, crop // 2: -crop // 2] if crop < im1_np.shape[1] else im1_np\n",
        "    im2_np = im2_np[:, crop // 2:] if crop < im2_np.shape[1] else im2_np\n",
        "\n",
        "    # Nouvelle largeur totale plus souple\n",
        "    W0 = im0_np.shape[1]\n",
        "    W1 = im1_np.shape[1]\n",
        "    W2 = im2_np.shape[1]\n",
        "    new_width = W0 + W1 + W2 + 10  # marges\n",
        "\n",
        "    max_height = max(im0_np.shape[0], im1_np.shape[0], im2_np.shape[0])\n",
        "    long_img = np.zeros((max_height, new_width))\n",
        "\n",
        "    # Placement\n",
        "    x0 = 0\n",
        "    x1 = x0 + W0 + 5\n",
        "    x2 = x1 + W1 + 5\n",
        "\n",
        "    y0 = (max_height - im0_np.shape[0]) // 2\n",
        "    y1 = (max_height - im1_np.shape[0]) // 2\n",
        "    y2 = (max_height - im2_np.shape[0]) // 2\n",
        "\n",
        "    long_img[y0:y0 + im0_np.shape[0], x0:x0 + W0] = im0_np\n",
        "    long_img[y1:y1 + im1_np.shape[0], x1:x1 + W1] = im1_np\n",
        "    long_img[y2:y2 + im2_np.shape[0], x2:x2 + W2] = im2_np\n",
        "\n",
        "    return long_img\n",
        "\n",
        "\n",
        "\n",
        "\n",
        "coord = -1\n",
        "img_3D = mr.mp.image_stock[coord][None]\n",
        "img_3D_rgb = i3p.SimplexToHSV(img_3D, is_last_background=True).to_rgb()\n",
        "print(img_3D_rgb.shape)\n",
        "long_img= make_3d_flat(img_3D_rgb[0],rf_slice)\n",
        "\n",
        "plt.imshow(long_img, cmap='gray')\n",
        "plt.show()\n",
        "# img_3D = mr.mp.image_stock\n",
        "# img_3D_rgb = i3p.SimplexToHSV(img_3D, is_last_background=True).to_rgb()"
      ],
      "id": "aaa1afbe13683041",
      "outputs": [],
      "execution_count": null
    },
    {
      "metadata": {
        "ExecuteTime": {
          "end_time": "2025-05-22T23:24:34.442206Z",
          "start_time": "2025-05-22T23:24:32.836914Z"
        },
        "id": "f38ec8d892570cf4"
      },
      "cell_type": "code",
      "source": [
        "# %matplotlib qt\n",
        "# plot_mr(mr, slice, resize_factor)\n",
        "#\n",
        "\n",
        "\n",
        "def make_integration_fig(subfig,mr,slice,n_plots=4,\n",
        "                         show_source_target= True,\n",
        "                         ylabel=True,\n",
        "                         cmp_mask=False):\n",
        "    sst = show_source_target\n",
        "    ax = subfig.subplots(n_plots+2*sst,1)\n",
        "    set_ticks_off(ax)\n",
        "    title = 'Mask evolution' if cmp_mask else 'Integration'\n",
        "    ax[0 + 1*sst].set_title(title)\n",
        "\n",
        "    img_3D_rgb = i3p.SimplexToHSV(mr.mp.image_stock, is_last_background=True).to_rgb()\n",
        "    for i in range(n_plots):\n",
        "        coord = i*(mr.mp.n_step-1)//(n_plots-1)\n",
        "        long_img= make_3d_flat(img_3D_rgb[coord],slice)\n",
        "\n",
        "        ax[i+1*sst].imshow(long_img,cmap='gray',vmin=0,vmax=1)\n",
        "        if ylabel:\n",
        "            ax[i+1*sst].set_ylabel(f\"t = {(i*mr.mp.n_step//(n_plots-1))/mr.mp.n_step}\")\n",
        "    if sst:\n",
        "        source_flat = make_3d_flat(\n",
        "            i3p.SimplexToHSV(mr.source, is_last_background=True).to_rgb()[0]\n",
        "            ,slice\n",
        "        )\n",
        "        target_flat = make_3d_flat(\n",
        "            i3p.SimplexToHSV(mr.target, is_last_background=True).to_rgb()[0]\n",
        "            ,slice\n",
        "        )\n",
        "\n",
        "        ax[0].imshow(source_flat,cmap='gray',vmin=0,vmax=1)\n",
        "        ax[0].set_title('Source')\n",
        "        ax[-1].imshow(target_flat,cmap='gray',vmin=0,vmax=1)\n",
        "        ax[-1].set_title('Target')\n",
        "    return ax\n",
        "ic.disable()\n",
        "fig = plt.figure(figsize=(12,12),constrained_layout = True)\n",
        "ax = make_integration_fig(fig,mr,rf_slice,show_source_target=True,n_plots=4)\n"
      ],
      "id": "f38ec8d892570cf4",
      "outputs": [],
      "execution_count": null
    },
    {
      "cell_type": "code",
      "source": [],
      "metadata": {
        "id": "XuUS1puW3Hz1"
      },
      "id": "XuUS1puW3Hz1",
      "execution_count": null,
      "outputs": []
    }
  ],
  "metadata": {
    "kernelspec": {
      "display_name": "Python 3",
      "name": "python3"
    },
    "language_info": {
      "codemirror_mode": {
        "name": "ipython",
        "version": 2
      },
      "file_extension": ".py",
      "mimetype": "text/x-python",
      "name": "python",
      "nbconvert_exporter": "python",
      "pygments_lexer": "ipython2",
      "version": "2.7.6"
    },
    "colab": {
      "provenance": [],
      "machine_shape": "hm",
      "gpuType": "A100",
      "include_colab_link": true
    },
    "accelerator": "GPU"
  },
  "nbformat": 4,
  "nbformat_minor": 5
}