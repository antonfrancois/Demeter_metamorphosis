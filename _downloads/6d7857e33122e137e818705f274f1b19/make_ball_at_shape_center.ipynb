{
  "cells": [
    {
      "cell_type": "markdown",
      "metadata": {},
      "source": [
        "\n\n# Make Ball at Shape Center\n\nA utility function to create a ball at the center of a shape in an image.\nCan be useful to initialise a mask for a guided registration task.\n"
      ]
    },
    {
      "cell_type": "code",
      "execution_count": null,
      "metadata": {
        "collapsed": false
      },
      "outputs": [],
      "source": [
        "try:\n    import sys, os\n    # add the parent directory to the path\n    base_path  = os.path.join(os.path.dirname(os.path.abspath(__file__)),'..')\n    sys.path.insert(0,base_path)\n    import __init__\n\nexcept NameError:\n    pass\n\n\n# import __init__\nimport torch\nfrom demeter.constants import ROOT_DIRECTORY\nfrom demeter.utils.torchbox import make_ball_at_shape_center,reg_open, imCmp\nimport matplotlib.pyplot as plt\nimport demeter.utils.image_3d_plotter as i3p"
      ]
    },
    {
      "cell_type": "code",
      "execution_count": null,
      "metadata": {
        "collapsed": false
      },
      "outputs": [],
      "source": [
        "print(f\"2D Example :\")\nimg = reg_open('m0t')\n\nball, info = make_ball_at_shape_center(img,\n                                       overlap_threshold=.1,\n                                       verbose=True)\ncentre_x,centre_y,r = info\n\nfig,ax = plt.subplots(1,2)\nax[0].imshow(img[0,0],cmap='gray')\nax[0].plot(centre_x,centre_y,'x')\nax[1].imshow(imCmp(img,ball),origin='lower')\nplt.show()"
      ]
    },
    {
      "cell_type": "markdown",
      "metadata": {},
      "source": [
        "_ = input(\"Press for 3D example :\")\n\n"
      ]
    },
    {
      "cell_type": "code",
      "execution_count": null,
      "metadata": {
        "collapsed": false
      },
      "outputs": [],
      "source": [
        "img = torch.load(ROOT_DIRECTORY+\"/examples/im3Dbank/hanse_w_ball.pt\")\n\n\nball, info = make_ball_at_shape_center(img,\n                                       # shape_binarization=img == img.max(),\n                                       overlap_threshold=.1,\n                                       # force_r=50,\n                                       verbose=True)\ncentre_x,centre_y,centre_z,r = info\n\nimg_cmp = imCmp(img,ball)\ni3p.imshow_3d_slider(img_cmp)\nplt.show()"
      ]
    }
  ],
  "metadata": {
    "kernelspec": {
      "display_name": "Python 3",
      "language": "python",
      "name": "python3"
    },
    "language_info": {
      "codemirror_mode": {
        "name": "ipython",
        "version": 3
      },
      "file_extension": ".py",
      "mimetype": "text/x-python",
      "name": "python",
      "nbconvert_exporter": "python",
      "pygments_lexer": "ipython3",
      "version": "3.12.9"
    }
  },
  "nbformat": 4,
  "nbformat_minor": 0
}