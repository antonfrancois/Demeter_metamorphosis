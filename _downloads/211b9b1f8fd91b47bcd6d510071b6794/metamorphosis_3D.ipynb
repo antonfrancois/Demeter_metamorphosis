{
  "cells": [
    {
      "cell_type": "markdown",
      "metadata": {},
      "source": [
        "\nMetamorphosis on 3D images\n================================================\n\nIn this file we apply the metamorphosis algorithm to 3D images.\n"
      ]
    },
    {
      "cell_type": "markdown",
      "metadata": {},
      "source": [
        "1. Import necessary libraries\n\n"
      ]
    },
    {
      "cell_type": "code",
      "execution_count": null,
      "metadata": {
        "collapsed": false
      },
      "outputs": [],
      "source": [
        "try:\n    import sys, os\n    # add the parent directory to the path\n    base_path  = os.path.join(os.path.dirname(os.path.abspath(__file__)),'..')\n    sys.path.insert(0,base_path)\n    import __init__\n\nexcept NameError:\n    pass\n\nimport torch\n\nfrom demeter.constants import *\nimport demeter.metamorphosis as mt\nimport demeter.utils.image_3d_visualisation as i3v\nfrom demeter.utils import *\nimport demeter.utils.image_3d_visualisation as i3v\nimport demeter.utils.reproducing_kernels as rk\nimport demeter.utils.torchbox as tb\nfrom icecream import ic\nimport napari\n\ncuda = torch.cuda.is_available()\n# cuda = True\ndevice = 'cpu'\nif cuda:\n    device = 'cuda:0'\nprint('device used :',device)\nif device == 'cpu':\n    print('Warning : the computation will be slow, it is recommended to use a GPU')"
      ]
    },
    {
      "cell_type": "markdown",
      "metadata": {},
      "source": [
        "2. Load the images and visualize them\n\n"
      ]
    },
    {
      "cell_type": "code",
      "execution_count": null,
      "metadata": {
        "collapsed": false
      },
      "outputs": [],
      "source": [
        "path = ROOT_DIRECTORY+\"/examples/im3Dbank/\"\nsource_name = \"ball_for_hanse\"\ntarget_name = \"hanse_w_ball\"\nS = torch.load(path+source_name+\".pt\").to(device)\nT = torch.load(path+target_name+\".pt\").to(device)\n\n# if the image is too big for your GPU, you can downsample it quite barbarically :\nstep = 2 if device == 'cuda:0' else 3\nif step > 0:\n    S = S[:,:,::step,::step,::step]\n    T = T[:,:,::step,::step,::step]\n_,_,D,H,W = S.shape\n\nst = tb.imCmp(S,T,method = 'compose')\nsl = i3v.imshow_3d_slider(st, title = 'Source (orange) and Target (blue)')\nplt.show()\n\n## Setting residuals to 0 is equivalent to writing the\n## following line of code :\n# residuals= torch.zeros((D,H,W),device = device)\n# residuals.requires_grad = True\nmomentum_ini = 0\n\n# reg_grid = tb.make_regular_grid(S.size(),device=device)"
      ]
    },
    {
      "cell_type": "markdown",
      "metadata": {},
      "source": [
        "Inititialize a kernel Operator\n\n"
      ]
    },
    {
      "cell_type": "code",
      "execution_count": null,
      "metadata": {
        "collapsed": false
      },
      "outputs": [],
      "source": [
        "kernelOp = rk.GaussianRKHS((4,4,4), normalized= True)"
      ]
    },
    {
      "cell_type": "markdown",
      "metadata": {},
      "source": [
        "LDDMM\n\n"
      ]
    },
    {
      "cell_type": "code",
      "execution_count": null,
      "metadata": {
        "collapsed": false
      },
      "outputs": [],
      "source": [
        "# mu = 0\n# mu,rho,lamb = 0, 0, .0001   # LDDMM\n\nprint(\"\\nApply LDDMM\")\nmr_lddmm = mt.lddmm(S,T,momentum_ini,\n    kernelOperator=kernelOp,       #  Kernel\n    cost_cst=0.001,         # Regularization parameter\n    integration_steps=10,   # Number of integration steps\n    n_iter=4,             # Number of optimization steps\n    grad_coef=1,            # max Gradient coefficient\n    data_term=None,         # Data term (default Ssd)\n    safe_mode = False,      # Safe mode toggle (does not crash when nan values are encountered)\n    integration_method='semiLagrangian',  # You should not use Eulerian for real usage\n)\nmr_lddmm.plot_cost()\n\nmr_lddmm.to_device('cpu')\ndeformation = mr_lddmm.mp.get_deformation()\n# # you can save the optimization:\n# # mr_lddmm.save(source_name,target_name)\n\nimage_to_target = tb.imCmp(mr_lddmm.mp.image.cpu(),T,method = 'compose')\nsl = i3v.imshow_3d_slider(image_to_target, title = 'LDDMM result')\nplt.show()\n\n#  visualization tools with issues,TO FIX !\n# i3v.Visualize_geodesicOptim(mr_lddmm,alpha=1)\n\n# plt_v = i3v.compare_3D_images_vedo(T.cpu(),mr_lddmm.mp.image_stock.cpu())\n# plt_v.show_deformation_flow(deformation,1,step=3)\n# plt_v.plotter.show(interactive=True).close()"
      ]
    },
    {
      "cell_type": "markdown",
      "metadata": {},
      "source": [
        "Metamorphosis\nrho = 0  Pure photometric registration\nrho = 1  Pure geometric registration\n\n"
      ]
    },
    {
      "cell_type": "code",
      "execution_count": null,
      "metadata": {
        "collapsed": false
      },
      "outputs": [],
      "source": [
        "rho = 0.2\ndx_convention = 'square'\n# print(\"\\nApply Metamorphosis\")\nprint(\"\\nApply Metamorphosis\")\nmr_meta = mt.metamorphosis(S, T, momentum_ini,\n                           rho=rho,  # ratio deformation / intensity addition\n                           kernelOperator=kernelOp,  #  Kernel\n                           cost_cst=0.001,  # Regularization parameter\n                           integration_steps=10,  # Number of integration steps\n                           n_iter=15,  # Number of optimization steps\n                           grad_coef=1,  # max Gradient coefficient\n                           data_term=None,  # Data term (default Ssd)\n                           safe_mode = False,  # Safe mode toggle (does not crash when nan values are encountered)\n                           integration_method='semiLagrangian',  # You should not use Eulerian for real usage\n                           dx_convention=dx_convention\n                           )\nmr_meta.plot_cost()\n\nimage_to_target = tb.imCmp(mr_meta.mp.image.cpu(),T,method = 'compose')\nsl = i3v.imshow_3d_slider(image_to_target, title = 'Metamorphosis result')\nimage_deformed = tb.imgDeform(S.cpu(),mr_meta.mp.get_deformator(),dx_convention=dx_convention)\nimdef_target = tb.imCmp(image_deformed,T,method = 'compose')\nsl = i3v.imshow_3d_slider(imdef_target, title = 'Metamorphosis only deformation')\nic(mr_meta.mp.image_stock.shape)\nsl = i3v.imshow_3d_slider(mr_meta.mp.image_stock, title = 'Metamorphosis evolution')\nplt.show()\n\n\n#\n# # you can get the deformation grid:\n# deformation  = mr_meta.mp.get_deformation()\n\n# We provide some visualisation tools :\n\n# i3v.Visualize_geodesicOptim(mr_meta,alpha=1)\n# plt_v = i3v.compare_3D_images_vedo(T,mr_meta.mp.image_stock.cpu())\n# plt_v.show_deformation_flow(deformation,1,step=3)\n# plt_v.plotter.show(interactive=True).close()"
      ]
    }
  ],
  "metadata": {
    "kernelspec": {
      "display_name": "Python 3",
      "language": "python",
      "name": "python3"
    },
    "language_info": {
      "codemirror_mode": {
        "name": "ipython",
        "version": 3
      },
      "file_extension": ".py",
      "mimetype": "text/x-python",
      "name": "python",
      "nbconvert_exporter": "python",
      "pygments_lexer": "ipython3",
      "version": "3.12.8"
    }
  },
  "nbformat": 4,
  "nbformat_minor": 0
}