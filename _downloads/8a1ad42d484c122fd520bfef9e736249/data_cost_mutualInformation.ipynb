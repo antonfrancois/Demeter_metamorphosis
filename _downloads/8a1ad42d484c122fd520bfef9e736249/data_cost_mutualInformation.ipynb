{
  "cells": [
    {
      "cell_type": "markdown",
      "metadata": {},
      "source": [
        "\n.. data_cost_mutualInformation:\n\n# Data cost variation example:: Mutual Information\n\nThis example demonstrates how to change the data cost for the registration.\nWe will build a simple toy example mimicking situations we can encounter in\nmedical imaging where the shapes to match are clode in geometry but have\ndifferent intensity distributions. There are plenty other data costs in the literature\nfor every specific purpose, and we will focus on the mutual information.\n\nMutual information measures the amount of information shared between two images. It is effective for multi-modal image registration.\n\n$$I(X;Y) = \\sum_{x \\in X} \\sum_{y \\in Y} p(x,y) \\log \\left(\frac{p(x,y)}{p(x)p(y)}\right)$$\n\nWhere:\n\n- $X$ and $Y$ are the images being registered.\n- $p(x,y)$ is the joint probability distribution of the intensities.\n- $p(x)$ and $p(y)$ are the marginal probability distributions of the intensities.\n"
      ]
    },
    {
      "cell_type": "markdown",
      "metadata": {},
      "source": [
        "Importing the necessary libraries\n\n"
      ]
    },
    {
      "cell_type": "code",
      "execution_count": null,
      "metadata": {
        "collapsed": false
      },
      "outputs": [],
      "source": [
        "from demeter.constants import *\nimport demeter.utils.torchbox as tb\nimport demeter.metamorphosis as mt\nimport demeter.utils.reproducing_kernels as rk"
      ]
    },
    {
      "cell_type": "markdown",
      "metadata": {},
      "source": [
        "Openning the source and target images\n\n"
      ]
    },
    {
      "cell_type": "code",
      "execution_count": null,
      "metadata": {
        "collapsed": false
      },
      "outputs": [],
      "source": [
        "size = (200,200)\nS = tb.reg_open('01',size=size)\nT = 1 -tb.reg_open('17',size=size)\n\nfig,ax = plt.subplots(1,2)\nax[0].imshow(S[0,0].cpu(),**DLT_KW_IMAGE)\nax[0].set_title('source')\nax[1].imshow(T[0,0].cpu(),**DLT_KW_IMAGE)\nax[1].set_title('target')\nset_ticks_off(ax)\nplt.show()"
      ]
    },
    {
      "cell_type": "markdown",
      "metadata": {},
      "source": [
        "As you see in the previous plot, using the Ssd as a data cost will lead to have the ball\nbadly registered. (Try predicting the result before running the code !). However, we can\nuse the mutual information as a data cost to get a better registration.\n\n\nNow we will create a mutual information data cost object and use it in the registration.\n\n"
      ]
    },
    {
      "cell_type": "code",
      "execution_count": null,
      "metadata": {
        "collapsed": false
      },
      "outputs": [],
      "source": [
        "data_term = mt.Mutual_Information(T,mult=1)\n# data_term = mt.Ssd(T)\n\nmomentum_ini = 0\n# momentum_ini = mr.to_analyse[0]\n# momentum_ini.requires_grad = True\nkernelOp = rk.GaussianRKHS(sigma=(6,6))\n\nmr = mt.lddmm(S,T,momentum_ini,\n                kernelOperator = kernelOp,\n                cost_cst=.0001,\n                integration_steps=5,\n                n_iter=15,\n                grad_coef=1,\n                data_term=data_term,\n              dx_convention='square',\n)\nmr.plot()\nmr.plot_deform()\nplt.show()"
      ]
    }
  ],
  "metadata": {
    "kernelspec": {
      "display_name": "Python 3",
      "language": "python",
      "name": "python3"
    },
    "language_info": {
      "codemirror_mode": {
        "name": "ipython",
        "version": 3
      },
      "file_extension": ".py",
      "mimetype": "text/x-python",
      "name": "python",
      "nbconvert_exporter": "python",
      "pygments_lexer": "ipython3",
      "version": "3.12.8"
    }
  },
  "nbformat": 4,
  "nbformat_minor": 0
}