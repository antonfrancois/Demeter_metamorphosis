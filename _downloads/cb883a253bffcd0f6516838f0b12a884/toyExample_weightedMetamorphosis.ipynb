{
  "cells": [
    {
      "cell_type": "markdown",
      "metadata": {},
      "source": [
        "\n\n# Weighted metamorphosis - simulated cancer growth\n\nThis toy example was build to simulate a cancer growth in a brain.\nThis is a simple example of how to use the weighted metamorphosis to register two images..\nThis example is part of an exercise, it has been truncated to make you complete it.\n"
      ]
    },
    {
      "cell_type": "markdown",
      "metadata": {},
      "source": [
        "Import the necessary packages\n\n"
      ]
    },
    {
      "cell_type": "code",
      "execution_count": null,
      "metadata": {
        "collapsed": false
      },
      "outputs": [],
      "source": [
        "import matplotlib.pyplot as plt\n\ntry:\n    import sys, os\n\n    # add the parent directory to the path\n    base_path = os.path.join(os.path.dirname(os.path.abspath(__file__)), '..')\n    sys.path.insert(0, base_path)\n    import __init__\n\nexcept NameError:\n    pass\n\nfrom demeter.constants import *\nimport torch\nimport kornia.filters as flt\n# %reload_ext autoreload\n# %autoreload 2\nimport demeter.utils.reproducing_kernels as rk\nimport demeter.metamorphosis as mt\nimport demeter.utils.torchbox as tb\n\ndevice = 'cpu'\nif torch.cuda.is_available():\n    device = 'cuda:0'\nprint(f\"Used device: {device}\")"
      ]
    },
    {
      "cell_type": "markdown",
      "metadata": {},
      "source": [
        "## Load the images\n\n"
      ]
    },
    {
      "cell_type": "code",
      "execution_count": null,
      "metadata": {
        "collapsed": false
      },
      "outputs": [],
      "source": [
        "size = (300, 300)\nsource_name, target_name = '23', '24'\nS = tb.reg_open(source_name, size=size).to(device)  # Small oval with gray dots\nT = tb.reg_open(target_name, size=size).to(device)  # Big circle with deformed gray dots\nseg = tb.reg_open('21_seg', size=size).to(device)  # rounded triangle\n\n## Construct the target image\nini_ball, _ = tb.make_ball_at_shape_center(seg, overlap_threshold=.1, verbose=True)\nini_ball = ini_ball.to(device)\nT[seg > 0] = 0.5  # Add the rounded triangle to the target\n\nsource = S\ntarget = T\n# mask = mr.mp.image_stock\n\nsource_name = 'oval_w_round'\ntarget_name = 'round_w_triangle_p_rd'\n\nkw_img = dict(cmap='gray', vmin=0, vmax=1)\nplt.rcParams[\"figure.figsize\"] = (20, 20)\nfig, ax = plt.subplots(2, 2)\nax[0, 0].imshow(source[0, 0, :, :].cpu().numpy(), **kw_img)\nax[0, 0].set_title('source')\nax[0, 1].imshow(target[0, 0, :, :].cpu().numpy(), **kw_img)\nax[0, 1].set_title('target')\nax[1, 0].imshow(tb.imCmp(source, target), vmin=0, vmax=1)\nax[1, 1].imshow(seg[0, 0].cpu().numpy(), **kw_img)\nax[1, 1].set_title('segmentation')\n# plt.show()"
      ]
    },
    {
      "cell_type": "markdown",
      "metadata": {},
      "source": [
        "Define the kernel operator\n\n"
      ]
    },
    {
      "cell_type": "code",
      "execution_count": null,
      "metadata": {
        "collapsed": false
      },
      "outputs": [],
      "source": [
        "sigma = [(5, 5), (15, 15)]\nkernelOp = rk.Multi_scale_GaussianRKHS(sigma, normalized=False)\nkernelOp.plot()\nrk.plot_kernel_on_image(kernelOp, image=target.cpu())\nprint(\"sigma\", sigma)"
      ]
    },
    {
      "cell_type": "markdown",
      "metadata": {},
      "source": [
        "####################################################################\n  Classic metamorphosis\n -----------------------\n\n We first compute the classic metamorphosis without any mask to compare results.\n\n"
      ]
    },
    {
      "cell_type": "code",
      "execution_count": null,
      "metadata": {
        "collapsed": false
      },
      "outputs": [],
      "source": [
        "rho = 0.7\nmomentum_ini = 0\nmr = mt.metamorphosis(source, target, momentum_ini,\n                      kernelOperator=kernelOp,\n                      rho=rho,\n                      integration_steps=10,\n                      cost_cst=1e-2,\n                      n_iter=20,\n                      grad_coef=1,\n                      dx_convention='pixel',\n                      )\nmr.plot()\nmr.plot_deform()\nmr.mp.plot()\nplt.show()\nmr.save_to_gif(\"image deformation\", f\"simpleCancer_Meta_rho{rho}_image\",\n               folder=\"simpleCancer_Meta\")\n\n# plt.show()"
      ]
    },
    {
      "cell_type": "markdown",
      "metadata": {},
      "source": [
        "####################################################################\n  Weighted metamorphosis with time constant mask.\n ---------------------------------------------------------\n\n inverse the mask to have M(x) = 0 where we want to add\n intensity.\n\n\n"
      ]
    },
    {
      "cell_type": "code",
      "execution_count": null,
      "metadata": {
        "collapsed": false
      },
      "outputs": [],
      "source": [
        "print(\"\\n\\nComputing weighted metamorphosis - time constant mask\")\nprint(\"=\" * 20)\n\ncst_mask = 1 - seg.repeat(10, 1, 1, 1) * .5\nlamb = .0001\nn_iter, grad_coef = (20, .1)\nmomentum_ini = 0\nmr_wm = mt.weighted_metamorphosis(source, target, momentum_ini, cst_mask,\n                                  kernelOperator=kernelOp,\n                                  cost_cst=lamb,\n                                  n_iter=n_iter,\n                                  grad_coef=grad_coef,\n                                  safe_mode=False,\n                                  dx_convention='pixel',\n                                  optimizer_method='LBFGS_torch'\n                                  )\n\nmr_wm.plot()\nmr_wm.plot_deform()\nplt.show()"
      ]
    },
    {
      "cell_type": "markdown",
      "metadata": {},
      "source": [
        "Why the result is not as expected? What can you do to improve it?\n\n Weighted metamorphosis with time evolving mask.\n=============================================================================\n\nYour mission is to model a smart evolving mask that will guide the\nregistration process.\n\n"
      ]
    },
    {
      "cell_type": "code",
      "execution_count": null,
      "metadata": {
        "collapsed": false
      },
      "outputs": [],
      "source": [
        "print(\"\\n\\n Weighted metamorphosis - evolving mask\")\nprint(\"=\" * 20)\nprint(\"\\tComputing evolving mask\")\n\nmask = mr.mp.image_stock  # Saving the succession of images.\nmask = 1 - .5*mask\n\n# display the mask at different time\nL = [0, 2, 8, -1]\nfig, ax = plt.subplots(1, len(L), figsize=(len(L) * 5, 10), constrained_layout=True)\nax[0].set_title('orienting mask')\nax[0].set_title('residuals mask')\nfor i, ll in enumerate(L):\n    ax[i].imshow(mask[ll, 0].cpu(), cmap='gray', vmin=0, vmax=1, origin=\"lower\")\n\nplt.show()"
      ]
    },
    {
      "cell_type": "markdown",
      "metadata": {},
      "source": [
        "####################################################################\n\n"
      ]
    },
    {
      "cell_type": "code",
      "execution_count": null,
      "metadata": {
        "collapsed": false
      },
      "outputs": [],
      "source": [
        "print(\"\\n\\tComputing weighted metamorphosis\")\nn_iter= 20\ngrad_coef = 1\ncost_cst = .0001\nresiduals = 0\nmask = mask.to(device)\n# residuals = mr_wm.to_analyse[0].clone().to(device)\nmr_wm = mt.weighted_metamorphosis(source, target, residuals,\n                                  mask,\n                                  kernelOp,\n                                  cost_cst,\n                                  n_iter,\n                                  grad_coef,\n                                  safe_mode=False,\n                                  dx_convention='pixel',\n                                  optimizer_method='LBFGS_torch'\n                                  # optimizer_method='adadelta'\n                                  )\n\nmr_wm.plot()\nplt.show()"
      ]
    },
    {
      "cell_type": "code",
      "execution_count": null,
      "metadata": {
        "collapsed": false
      },
      "outputs": [],
      "source": [
        "mr_wm.plot_deform()\nplt.show()"
      ]
    },
    {
      "cell_type": "code",
      "execution_count": null,
      "metadata": {
        "collapsed": false
      },
      "outputs": [],
      "source": [
        "mr_wm.mp.plot()\nplt.show()\nmr_wm.save_to_gif(\"image\",f\"simpleCancer_WM_image\",\n                folder=\"simpleCancer\")\nmr_wm.save_to_gif(\"deformation\",f\"simpleCancer_WM_deform\",\n                folder=\"simpleCancer\")\nmr_wm.save_to_gif(\"residual\",f\"simpleCancer_WM_residuals\",\n                folder=\"simpleCancer\")"
      ]
    }
  ],
  "metadata": {
    "kernelspec": {
      "display_name": "Python 3",
      "language": "python",
      "name": "python3"
    },
    "language_info": {
      "codemirror_mode": {
        "name": "ipython",
        "version": 3
      },
      "file_extension": ".py",
      "mimetype": "text/x-python",
      "name": "python",
      "nbconvert_exporter": "python",
      "pygments_lexer": "ipython3",
      "version": "3.12.9"
    }
  },
  "nbformat": 4,
  "nbformat_minor": 0
}