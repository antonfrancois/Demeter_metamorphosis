{
  "cells": [
    {
      "cell_type": "markdown",
      "metadata": {},
      "source": [
        "\n\n# A Gaussian Reproducing Kernel\n\nThis page is not only meant to show you how to use the Gaussian Reproducing Kernel (GRK) but also,\nto provide you with everything you need to know about kernel operators in the\nDemeter library: how they are used and the available options. If you are familiar with reproducing\nkernels on point cloud data, you might be surprised. Since we are working with\nimages, it is as if we had a point cloud where each pixel is a Dirac with its weight\nbeing the pixel intensity. As a result, there is a large number of closely spaced points.\n This is why, instead of using a classical kernel that computes the distance between\npoints, we perform the same operation using a convolution.\n\nIn metamorphosis, the RK is used to parameterize the space of acceptable vector fields $V$\nthrough its norm, and is used to compute the vector field from the momentum.\n\n\\begin{align}v = - K_{\\sigma} ( p \\nabla I)\\end{align}\n\nwhere $p$ is the momentum, $I$ the image and $K_{\\sigma}$ the Gaussian RK operator.\nwe also call $p \\nabla I$ the field momentum.\n"
      ]
    },
    {
      "cell_type": "markdown",
      "metadata": {},
      "source": [
        "Importing the necessary libraries\n\n"
      ]
    },
    {
      "cell_type": "code",
      "execution_count": null,
      "metadata": {
        "collapsed": false
      },
      "outputs": [],
      "source": [
        "import numpy as np\n\nfrom demeter.constants import DLT_KW_IMAGE\nimport matplotlib.pyplot as plt\nimport torch\nimport demeter.utils.reproducing_kernels as rk\nimport demeter.utils.torchbox as tb\nimport demeter.utils.bspline as bs\nimport  demeter.metamorphosis as mt"
      ]
    },
    {
      "cell_type": "markdown",
      "metadata": {},
      "source": [
        "To use the Gaussian RK, we need to choose a sigma. The larger the sigma, the more the RK will\nsmooth the vector fields. The smaller the sigma, the more the RK will keep the high frequency\ninformation of the vector fields. We choose sigmas in pixel units, meaning that the gaussian\nwill reach a value of 0.01 at about a distance of 3 sigma pixels from the center.\nWe define the sigma as a tuple $(\\sigma_x,\\sigma_y)$ (or $(\\sigma_x,\\sigma_y,\\sigma_y)$ in 3d)\nto allow for anisotropic smoothing and to give  the dimensions of the image.\n\n\n"
      ]
    },
    {
      "cell_type": "code",
      "execution_count": null,
      "metadata": {
        "collapsed": false
      },
      "outputs": [],
      "source": [
        "sigma = (4,2)\nkernelOp = rk.GaussianRKHS(sigma)\nprint(kernelOp)\nkernelOp.plot()"
      ]
    },
    {
      "cell_type": "markdown",
      "metadata": {},
      "source": [
        "In the cell above, we initialized a Gaussian RK operator with sigma = (10,5). You can\nprint the operator to see its parameters. You can see the kernel size and its reach.\nThe kernel size is the size of the kernel in pixel units. The reach is the distance\nat which we want to truncate the kernel. A reach of 3 means will be truncated at 3 sigma\nfrom center to edge.\n\n\nThis operator in meant to smooth the vector field momentum in the Metamorphosis\ngeodesic equation. Before, to use it in a Metamorphosis registration, let's\nvisualize its effect on a synthetic vector field.\n\n\n"
      ]
    },
    {
      "cell_type": "code",
      "execution_count": null,
      "metadata": {
        "collapsed": false
      },
      "outputs": [],
      "source": [
        "# Create a synthetic vector field\nH,W = 30,30\ns  = .5\n# Random control matrix\ncms = torch.rand((2,int(H*s),int(W*s)),dtype=torch.float) * 2 - 1\ncms *= 5\nfield = bs.field2D_bspline(cms, n_pts = (H,W), degree=(1,1), dim_stack=-1)[None]\nsmoothed_field = tb.im2grid(kernelOp( tb.grid2im(field) ))\nic(field.shape, smoothed_field.shape)\n\nfig,ax = plt.subplots(1,2,figsize=(10,5))\ntb.quiver_plot(field, title='Original field', step=1,ax=ax[0],check_diffeo=True)\ntb.quiver_plot(smoothed_field, title='Smoothed field', step=1,ax=ax[1],check_diffeo=True)\nplt.show()"
      ]
    },
    {
      "cell_type": "markdown",
      "metadata": {},
      "source": [
        "#####################################################################\n Note: that we used the `im2grid` and `grid2im` functions to convert the field\n from image to grid representation and vice versa. The grid representation is\n a tensor of shape (1,H,W,2) where H and W are the height and width of the image.\n You might find it strange that we pass the field in image representation to the\n kernel operator. This mostly for efficiency reasons, see `pytorch stride <https://discuss.pytorch.org/t/pytorch-tensor-stride-how-it-works/90537>`\n for more information.\n\n In the plot above, we can see the effect of the Gaussian RK on a synthetic vector field.\n We show the \"diffeomorphismness\" of the field by plotting the sign of the Jacobian of the field.\n Green means that the Jacobian is positive, red means that the Jacobian is negative, and the image\n must be all green for the deformation to be a diffeomorphism. We can see that the smoothed field\n is a diffemorphism !\n\n Registation\n ^^^^^^^^^^^^^^^^^^^^^\n\n Good, now lets try on a real use case. First let's load a source and image target:\n Try to change the size and the proposed sigma to see their effects on the\n registration results.  Feel free to try different values that the one proposed.\n\n"
      ]
    },
    {
      "cell_type": "code",
      "execution_count": null,
      "metadata": {
        "collapsed": false
      },
      "outputs": [],
      "source": [
        "device = 'cpu'\nif torch.cuda.is_available():\n    device = 'cuda:0'\nprint('device used :',device)\n\nsize = (300,300)\n# size = (300,150)\nsource = tb.reg_open('01',size = size)\ntarget = tb.reg_open('star_sr5_r10',size = size)\n\nfig, ax = plt.subplots(1,3,figsize=(10,5))\nax[0].imshow(source[0,0],**DLT_KW_IMAGE)\nax[0].set_title('source')\nax[1].imshow(target[0,0],**DLT_KW_IMAGE)\nax[1].set_title('target')\nax[2].imshow(tb.imCmp(source,target,'compose'),origin='lower')\nax[2].set_title('superposition of source and target')\nplt.show()"
      ]
    },
    {
      "cell_type": "markdown",
      "metadata": {},
      "source": [
        "Now let's try to register the source to the target using LDDMM with differents\nsigma values.\n\n"
      ]
    },
    {
      "cell_type": "code",
      "execution_count": null,
      "metadata": {
        "collapsed": false
      },
      "outputs": [],
      "source": [
        "source = source.to(device)\ntarget = target.to(device)\n\n# sigma = (10,5)      # wonky result\nsigma = (10,10)     # good result\n# sigma = (20,20)     # cannot get details.\n\n\nkernelOp = rk.GaussianRKHS(sigma)\nprint(kernelOp)\nmr = mt.lddmm(source,target,0,\n                        kernelOperator = kernelOp,\n                        n_iter = 10,\n                        cost_cst=1,\n                        grad_coef=1,\n                        integration_steps=15,\n                        dx_convention='square',\n                        )"
      ]
    },
    {
      "cell_type": "markdown",
      "metadata": {},
      "source": [
        "Integration and convergence plot. Then we compare the source, target\nand registered source images\n\n"
      ]
    },
    {
      "cell_type": "code",
      "execution_count": null,
      "metadata": {
        "collapsed": false
      },
      "outputs": [],
      "source": [
        "mr.plot()"
      ]
    },
    {
      "cell_type": "markdown",
      "metadata": {},
      "source": [
        "This plot shows the deformation as a grid and arrows. along with the\ndeformed image.\n\n"
      ]
    },
    {
      "cell_type": "code",
      "execution_count": null,
      "metadata": {
        "collapsed": false
      },
      "outputs": [],
      "source": [
        "mr.plot_deform()\nplt.show()"
      ]
    }
  ],
  "metadata": {
    "kernelspec": {
      "display_name": "Python 3",
      "language": "python",
      "name": "python3"
    },
    "language_info": {
      "codemirror_mode": {
        "name": "ipython",
        "version": 3
      },
      "file_extension": ".py",
      "mimetype": "text/x-python",
      "name": "python",
      "nbconvert_exporter": "python",
      "pygments_lexer": "ipython3",
      "version": "3.12.8"
    }
  },
  "nbformat": 4,
  "nbformat_minor": 0
}