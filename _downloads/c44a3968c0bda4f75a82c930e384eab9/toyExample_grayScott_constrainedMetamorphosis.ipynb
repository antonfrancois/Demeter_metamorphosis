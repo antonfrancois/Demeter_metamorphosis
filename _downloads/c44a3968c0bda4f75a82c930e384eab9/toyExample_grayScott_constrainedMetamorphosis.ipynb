{
  "cells": [
    {
      "cell_type": "markdown",
      "metadata": {},
      "source": [
        "\n\n# Constrained Metamorphosis - simulated cancer growth\n\nThis toy example was build to simulate a cancer growth in a brain.\nThe gray scott texture as been used to add intricate patterns to the\nbrain background. This particular example is a very hard registration\nproblem, this example shows how constrained metamorphosis can solve\nit.\n\nHere we will use the constrained metamorphosis to register two images.\nThe constrained metamorphosis is a metamorphosis that can take into account\nsome prior information to guide the registration. In this example we will\nuse two masks and a prior field to guide the registration:\n\n- $M_t$ : A mask that will control the amount of deformation vs photometric changes.\n- $Q_t$ : A mask that will guide the deformation to match a precomputed vector field.\n- $w_t$ : A field that will be used to guide the deformation.\n\nThe metamorphosis model is defined as follows:\nLet the image evolution be\n\n\\begin{align}\\dot{I_{t}}=- \\sqrt{ M_{t} } v_{t} \\cdot \\nabla I_{t} + \\sqrt{ 1-M_{t} } z_{t}.\\end{align}\n\nThe Hamiltonian is defined as\n\n\\begin{align}H(I,p,v,z) = -(p |\\dot{ I}) - \\frac{1}{2} (Lv|v)_{2} - \\frac{1}{2}|z|_{2} - \\langle v,Qw\\rangle_{2}.\\end{align}\n\nand the deduced geodesic equations are\n\n\\begin{align}\\left\\{\n        \\begin{array}{rl}\n             v_{t} &= - K_{V} (\\sqrt{ M_{t} } p_{t} \\nabla I_{t} + Q_{t} w_{t})\\\\\n             \\dot{p_{t}} &= -\\sqrt{ M_t } \\nabla \\cdot (p_{t}v_{t}) \\\\\n             z_{t} &= \\sqrt{ 1 - M_t } p_{t} \\\\\n             \\dot{I_{t}} &=  - \\sqrt{ M_t } v_{t} \\cdot \\nabla I_{t} + \\sqrt{ 1-M_t } z_{t}.\n        \\end{array}\n    \\right.\\end{align}\n"
      ]
    },
    {
      "cell_type": "markdown",
      "metadata": {},
      "source": [
        "Import the necessary packages\n\n"
      ]
    },
    {
      "cell_type": "code",
      "execution_count": null,
      "metadata": {
        "collapsed": false
      },
      "outputs": [],
      "source": [
        "import matplotlib.pyplot as plt\n\n\ntry:\n    import sys, os\n    # add the parent directory to the path\n    base_path  = os.path.join(os.path.dirname(os.path.abspath(__file__)),'..')\n    sys.path.insert(0,base_path)\n    import __init__\n\nexcept NameError:\n    pass\n\n\nfrom demeter.constants import *\nimport torch\nimport kornia.filters as flt\n# %reload_ext autoreload\n# %autoreload 2\nimport demeter.utils.reproducing_kernels as rk\nimport demeter.metamorphosis as mt\nimport demeter.utils.torchbox as tb\n\ndevice = 'cpu'\nif torch.cuda.is_available():\n    device = 'cuda:0'\nprint(f\"Used device: {device}\")\nsize = (300,300)\n\nlocation = os.getcwd()\nif 'runner' in location:\n    location = os.path.dirname(os.path.dirname(location))\n\nEXPL_SAVE_FOLDER  = os.path.join(location,\"saved_optim/\")"
      ]
    },
    {
      "cell_type": "markdown",
      "metadata": {},
      "source": [
        "Open and visualise images before registration\n\n"
      ]
    },
    {
      "cell_type": "code",
      "execution_count": null,
      "metadata": {
        "collapsed": false
      },
      "outputs": [],
      "source": [
        "source_name,target_name = 'teGS_mbs_S','teGS_mbs_T'\n\nS = tb.reg_open(source_name,size = size).to(device)\nT = tb.reg_open(target_name,size = size).to(device)\nforDice_source = tb.reg_open('te_s_v_seg',size=size)\nforDice_target = tb.reg_open('teGS_mbs_segTdice',size=size)\nseg_necrosis = tb.reg_open('teGS_mbs_segNec',size=size).to(device)\nseg_oedeme = tb.reg_open('te_o_seg',size=size)\n\n\n# Put some landmarks on the images to assess registration quality\n\nsource_landmarks = torch.Tensor([\n    [int(187),int(145)],\n    [int(160),int(65)],\n    [int(140),int(84)],\n    [int(145),int(210)],\n    [int(170),int(180)],\n    [int(125),int(105)],\n    [int(117),int(175)]\n])\ntarget_landmarks = torch.Tensor([\n    [int(212),int(144)], # ok\n    [int(167),int(65)],\n    [int(131),int(80)], # ok\n    [int(135),int(222)], # ok\n    [int(197),int(202)], # ok\n    [int(110),int(100)], # ok\n    [int(101),int(189)] # ok\n])\n\nid_grid = tb.make_regular_grid(size)\n\ncol1 = 'C1'\ncol2 = 'C9'\nfig,ax = plt.subplots(1,3,figsize=(15,5))\nax[0].imshow(S[0,0].cpu(),**DLT_KW_IMAGE)\nax[0].plot(source_landmarks[:,0],source_landmarks[:,1],'x',markersize=10,c=col2)\nax[1].imshow(T[0,0].cpu(),**DLT_KW_IMAGE)\nax[1].plot(source_landmarks[:,0],source_landmarks[:,1],'x',markersize=10,c=col2)\nax[1].plot(target_landmarks[:,0],target_landmarks[:,1],'x',markersize=10,c=col1)\n\nax[1].quiver(source_landmarks[:,0],source_landmarks[:,1],\n             target_landmarks[:,0]-source_landmarks[:,0],\n             target_landmarks[:,1]-source_landmarks[:,1],\n             color= GRIDDEF_YELLOW)\n\nax[2].imshow(tb.imCmp(T,S,'seg'),origin='lower')\nax[2].plot(source_landmarks[:,0],source_landmarks[:,1],'x',markersize=10,c=col2)\nax[2].plot(target_landmarks[:,0],target_landmarks[:,1],'x',markersize=10,c=col1)\nfor i in range(source_landmarks.shape[0]):\n    ax[2].plot([source_landmarks[i,0],target_landmarks[i,0]],\n           [source_landmarks[i,1],target_landmarks[i,1]],'--',c=col1)"
      ]
    },
    {
      "cell_type": "markdown",
      "metadata": {},
      "source": [
        "Build masks for constrained metamorphosis. Constrained Metamorphosis\ncan take tree elements as priors:\n- Residual_mask : a temporal mask with at each pixel a value between 0 and 1\n                 controlling the amount of deformation vs photometric changes.\n- orienting_field :a prior precomputed vector field that our deformation\n                         will try to match.\n- orienting_mask : a mask that will be used to weight the orienting field.\n                  for example, if we want to deform only a part, the rest\n                  we can indicate it with this mask.\n\nFirst we need to set source and target masks.\n\n"
      ]
    },
    {
      "cell_type": "code",
      "execution_count": null,
      "metadata": {
        "collapsed": false
      },
      "outputs": [],
      "source": [
        "print(\"`\\n==== Building temporal masks ====\")\nval_o,val_n = .5,1\nsegs = torch.zeros(seg_necrosis.shape)\nsegs[seg_oedeme > 0] = val_o\nsegs[seg_necrosis > 0] = val_n\n# plt.imshow(segs[0,0],vmin=0,vmax=1,cmap='gray')\n\n# make source image\ncenter_o = (160,145)\ncenter_n = (167,153)\nini_ball_n,_ = tb.make_ball_at_shape_center(\n    seg_necrosis,verbose=True,force_r=12,force_center=center_n\n)\nini_ball_o,_ = tb.make_ball_at_shape_center(\n    seg_necrosis,verbose=True,force_r=21,force_center=center_o\n)\nini_ball_on = torch.zeros(ini_ball_o.shape)\nini_ball_on[ini_ball_o > 0] = val_o\nini_ball_on[ini_ball_n > 0] = val_n\n\n# segs = torch.ones_like(segs) * .5\n# ini_ball_on = torch.ones_like(ini_ball_on) * .5\n\nfig, ax = plt.subplots(1,4,figsize=(15,5))\nax[0].imshow(segs[0,0],vmin=0,vmax=1,cmap='gray',origin='lower')\nax[0].set_title('segs')\nax[1].imshow(ini_ball_on[0,0],vmin=0,vmax=1,cmap='gray',origin='lower')\nax[1].set_title('ini_ball_on')\nax[2].imshow(tb.imCmp(ini_ball_on,segs,'seg'),origin='lower')\nax[2].set_title('superposition')\nax[3].imshow(tb.imCmp(ini_ball_on,S,'seg'),origin='lower')\nplt.show()"
      ]
    },
    {
      "cell_type": "markdown",
      "metadata": {},
      "source": [
        "####################################################################\n Register the prior masks to the source and target images using LDDMM:\n First we build the kernel operator that will be used for the registration and\n fix other constants\n\n"
      ]
    },
    {
      "cell_type": "code",
      "execution_count": null,
      "metadata": {
        "collapsed": false
      },
      "outputs": [],
      "source": [
        "## Build temporal masks\n\nsigma = [(10,10),(15,15)]\n# sigma = [(10,10)]\nkernelOp = rk.Multi_scale_GaussianRKHS(sigma,normalized=True)\n# rk.plot_kernel_on_image(kernelOp,subdiv=10,image=T.cpu())\nplt.show()\nprint(kernelOp)\ndx_convention = 'pixel'\nn_steps= 10"
      ]
    },
    {
      "cell_type": "markdown",
      "metadata": {},
      "source": [
        "####################################################################\n Register the orienting mask to the source and target images using LDDMM:\n\n"
      ]
    },
    {
      "cell_type": "code",
      "execution_count": null,
      "metadata": {
        "collapsed": false
      },
      "outputs": [],
      "source": [
        "print(\">>>> Mask for orienting field <<<<\")\nrecompute = False\nif recompute:\n    momentum_ini = 0\n    mr_mask_orienting = mt.lddmm(ini_ball_n.to(device),seg_necrosis,momentum_ini,\n                       kernelOperator=kernelOp,cost_cst=1e-5,integration_steps=n_steps,\n                       n_iter=10,grad_coef=1,\n                       optimizer_method='LBFGS_torch',\n                       dx_convention=dx_convention,)\n    mr_mask_orienting.save(f\"mask_tE_gs_CM_{dx_convention}_n_step{n_steps}_orienting\")\nelse:\n\n    file = \"2D_11_02_2025_mask_tE_gs_CM_pixel_n_step10_orienting_000.pk1\"\n\n    mr_mask_orienting = mt.load_optimize_geodesicShooting(file,\n                                                          path =EXPL_SAVE_FOLDER\n                                                          )\n\nmr_mask_orienting.compute_landmark_dist(source_landmarks,target_landmarks)\n\nmr_mask_orienting.plot_imgCmp()\nplt.show()\n# # #%%\n# mr_mask_orienting.plot_deform()\n# mr_mask_orienting.mp.plot()\n# plt.show()"
      ]
    },
    {
      "cell_type": "markdown",
      "metadata": {},
      "source": [
        "####################################################################\n Register the residual mask to the source and target images using LDDMM:\n\n"
      ]
    },
    {
      "cell_type": "code",
      "execution_count": null,
      "metadata": {
        "collapsed": false
      },
      "outputs": [],
      "source": [
        "print(\">>>> Mask for residuals field <<<<\")\n\nif recompute:\n    momentum_ini = 0\n    mr_mask_residuals = mt.lddmm(ini_ball_on.to(device),segs,momentum_ini,\n                       kernelOperator=kernelOp,cost_cst=1e-5,integration_steps=n_steps,\n                       n_iter=15,grad_coef=1,\n                       optimizer_method='LBFGS_torch',\n                       dx_convention=dx_convention,)\n    mr_mask_residuals.save(f\"mask_tE_gs_CM_{dx_convention}_n_step{n_steps}_residuals\")\nelse:\n    file = \"2D_11_02_2025_mask_tE_gs_CM_pixel_n_step10_residuals_000.pk1\"\n\n    mr_mask_residuals = mt.load_optimize_geodesicShooting(file, path =EXPL_SAVE_FOLDER)\n\nmr_mask_residuals.plot_imgCmp()\nplt.show()"
      ]
    },
    {
      "cell_type": "markdown",
      "metadata": {},
      "source": [
        "mr_mask_residuals.mp.plot()\nplt.show()\n\n"
      ]
    },
    {
      "cell_type": "markdown",
      "metadata": {},
      "source": [
        "####################################################################\n Finally, we extract the masks and the fields from the LDDMM object\n and tweak them to our linking.\n The exercise here is too model the mask and tweak the masks to make\n the expected registration.\n Keep in mind that masks should be between 0 and 1\n\n"
      ]
    },
    {
      "cell_type": "code",
      "execution_count": null,
      "metadata": {
        "collapsed": false
      },
      "outputs": [],
      "source": [
        "residuals_mask = mr_mask_residuals.mp.image_stock.clone()\nresiduals_mask = 1 - residuals_mask\n\norienting_field = -mr_mask_orienting.mp.field_stock.clone() / n_steps\n\nnorm_w_2 = (orienting_field ** 2).sum(dim= -1).sqrt()\nnorm_w_2 = norm_w_2/norm_w_2.max()\n\norienting_mask = norm_w_2.clone()[:,None]\no_max = 0.02\norienting_mask[orienting_mask > o_max] = o_max"
      ]
    },
    {
      "cell_type": "code",
      "execution_count": null,
      "metadata": {
        "collapsed": false
      },
      "outputs": [],
      "source": [
        "sig = 5 # blur the mask to avoid sharp transitions\nresiduals_mask = flt.gaussian_blur2d(residuals_mask,(int(6*sig)+1,int(6*sig)+1),(sig,sig))\n# sig = 5\norienting_mask = flt.gaussian_blur2d(orienting_mask,(int(6*sig)+1,int(6*sig)+1),(sig,sig))\n\nL = [0,2,8,-1]\nfig,ax = plt.subplots(2,len(L),figsize=(len(L)*5,10))\nax[0,0].set_title('orienting mask')\nax[1,0].set_title('residuals mask')\nfor i,ll in enumerate(L):\n    ax[0,i].imshow(orienting_mask[ll,0].cpu(),cmap='gray',origin = \"lower\",\n                   # vmin=0, vmax = 1,\n                   )\n    tb.quiver_plot(orienting_mask[ll,0][...,None].cpu() * orienting_field[ll][None].cpu(),\n                   ax[0,i],\n                   step = 10,color='C3',dx_convention=dx_convention)\n\n    ax[1,i].imshow(residuals_mask[ll,0].cpu(),cmap='gray',vmin=0, vmax = 1,origin = \"lower\")\n\nplt.show()"
      ]
    },
    {
      "cell_type": "code",
      "execution_count": null,
      "metadata": {
        "collapsed": false
      },
      "outputs": [],
      "source": [
        "fig1,ax1 = plt.subplots(1,1)\nax1.plot(orienting_mask[-1,0,:,150].cpu(),label=\"orienting_mask\")\nax1.plot(residuals_mask[-1,0,:,150].cpu(),label=\"residuals_mask\")\nax1.set_ylim(0,1)\nax1.legend()\nplt.title('orienting and residuals masks profiles cut at x=150')\n# l = orienting_mask.shape[0]\n# L = range(l)\n# fig,ax = plt.subplots(l,1,figsize=(10,l*10))\nplt.show()"
      ]
    },
    {
      "cell_type": "code",
      "execution_count": null,
      "metadata": {
        "collapsed": false
      },
      "outputs": [],
      "source": [
        "sigma = [(5,5),(10,10),(15,15)]\n# sigma = [(10,10)]\nkernelOp = rk.Multi_scale_GaussianRKHS(sigma,normalized=False)\n# kernelOp.kernel = kernelOp.kernel / kernelOp.kernel.max()\nkernelOp.plot()\n\nplt.show()\nprint(kernelOp)"
      ]
    },
    {
      "cell_type": "markdown",
      "metadata": {},
      "source": [
        "####################################################################\n We are now ready to perform the registration with the constrained metamorphosis\n orienting_field =None\n orienting_mask = None\n you can also load the optimisation object from a file\n file = \"2D_25_01_2025_TEST_toyExample_grayScott_CM_square_n_step20_000.pk1\"\n mr = mt.load_optimize_geodesicShooting(file)\n\n"
      ]
    },
    {
      "cell_type": "code",
      "execution_count": null,
      "metadata": {
        "collapsed": false
      },
      "outputs": [],
      "source": [
        "print(\"\\n==== Constrained Metamorphosis ====\")\nmomentum_ini = 0\nic.disable()\nmr_cm = mt.constrained_metamorphosis(S,T,momentum_ini,\n                                     orienting_mask,\n                                     orienting_field,\n                                     residuals_mask,\n                                     kernelOperator=kernelOp,\n                                     cost_cst=1e-10,\n                                     grad_coef=.1,\n                                    n_iter=20,\n                                     dx_convention=dx_convention,\n                                        # optimizer_method='adadelta',\n                                     )\nif recompute:\n    mr_cm.compute_landmark_dist(source_landmarks,target_landmarks)\n    mr_cm.plot_cost()\n    plt.show()\n    mr_cm.save(f\"toyExample_grayScott_CM_{dx_convention}_n_step{n_steps}\")\nelse:\n    mr_cm = mt.load_optimize_geodesicShooting(\"2D_11_02_2025_toyExample_grayScott_CM_pixel_n_step10_000.pk1\",\n                                              path =EXPL_SAVE_FOLDER\n                                              )"
      ]
    },
    {
      "cell_type": "code",
      "execution_count": null,
      "metadata": {
        "collapsed": false
      },
      "outputs": [],
      "source": [
        "mr_cm.plot_imgCmp()"
      ]
    },
    {
      "cell_type": "code",
      "execution_count": null,
      "metadata": {
        "collapsed": false
      },
      "outputs": [],
      "source": [
        "mr_cm.plot_deform()\n\nplt.show()"
      ]
    },
    {
      "cell_type": "code",
      "execution_count": null,
      "metadata": {
        "collapsed": false
      },
      "outputs": [],
      "source": [
        "mr_cm.mp.plot()\nplt.show()\n\n# mr_cm.save_to_gif(\"image\",f\"toyExample_grayScott_CM_{dx_convention}_n_step{n_steps}_image\",\n#                folder='toyExample_grayScott')\nmr_cm.save_to_gif(\"residual\",f\"toyExample_grayScott_CM_{dx_convention}_n_step{n_steps}_residual\",\n               folder='toyExample_grayScott')"
      ]
    },
    {
      "cell_type": "code",
      "execution_count": null,
      "metadata": {
        "collapsed": false
      },
      "outputs": [],
      "source": [
        "L = [0,2,8,-1]\nfig,ax = plt.subplots(1,len(L),figsize=(len(L)*5,10), constrained_layout=True)\nax[0].set_title('orienting mask')\nfor i,ll in enumerate(L):\n    ax[i].imshow(mr_cm.mp.image_stock[ll,0].cpu(),cmap='gray',vmin=0, vmax = 1,origin = \"lower\")\n    ax[i].imshow(1-residuals_mask[ll,0].cpu(),cmap='Oranges',vmin=0, vmax = 1,origin = \"lower\",alpha = .5)\n    # ax[i].imshow(orienting_mask[ll,0].cpu(),cmap='Blues',vmin=0, vmax = 1,origin = \"lower\",alpha = .5)\n\n\nplt.show()"
      ]
    }
  ],
  "metadata": {
    "kernelspec": {
      "display_name": "Python 3",
      "language": "python",
      "name": "python3"
    },
    "language_info": {
      "codemirror_mode": {
        "name": "ipython",
        "version": 3
      },
      "file_extension": ".py",
      "mimetype": "text/x-python",
      "name": "python",
      "nbconvert_exporter": "python",
      "pygments_lexer": "ipython3",
      "version": "3.12.9"
    }
  },
  "nbformat": 4,
  "nbformat_minor": 0
}