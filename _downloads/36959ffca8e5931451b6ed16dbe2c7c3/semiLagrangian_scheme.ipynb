{
  "cells": [
    {
      "cell_type": "markdown",
      "metadata": {},
      "source": [
        "\n\n# Why we should use semi-Lagrangian scheme?\n\n\nIn this example I will try to demonstrate to you why we should use the semi-Lagrangian\nscheme during geodesic integration rather than Eulerian. Obviously, we could\nuse even more developed schemes like Runge-Kutta, but semi-Lagrangian is a good\ncompromise between speed and accuracy.\n"
      ]
    },
    {
      "cell_type": "markdown",
      "metadata": {},
      "source": [
        "Importing the necessary libraries\n\n"
      ]
    },
    {
      "cell_type": "code",
      "execution_count": null,
      "metadata": {
        "collapsed": false
      },
      "outputs": [],
      "source": [
        "import matplotlib.pyplot as plt\n\nimport demeter.metamorphosis as mt\nimport demeter.utils.reproducing_kernels as rk\nimport demeter.utils.torchbox as tb\nfrom demeter.constants import DLT_KW_IMAGE"
      ]
    },
    {
      "cell_type": "markdown",
      "metadata": {},
      "source": [
        "Open images\n\n"
      ]
    },
    {
      "cell_type": "code",
      "execution_count": null,
      "metadata": {
        "collapsed": false
      },
      "outputs": [],
      "source": [
        "size = (200,200)\nS = tb.reg_open('08',size=size)\nT = tb.reg_open('m0',size=size)\n\nfig,ax = plt.subplots(1,3)\nax[0].imshow(S[0,0].cpu(),**DLT_KW_IMAGE)\nax[0].set_title('source')\nax[1].imshow(T[0,0].cpu(),**DLT_KW_IMAGE)\nax[1].set_title('target')\nax[2].imshow(tb.imCmp(S,T,'seg'),origin='lower')\nax[2].set_title('superposition of S and T')"
      ]
    },
    {
      "cell_type": "markdown",
      "metadata": {},
      "source": [
        "Now we try to register the source to the target using the Eulerian scheme.\n\n"
      ]
    },
    {
      "cell_type": "code",
      "execution_count": null,
      "metadata": {
        "collapsed": false
      },
      "outputs": [],
      "source": [
        "kernel_op = rk.GaussianRKHS(sigma=(6, 6))\n\nmomentum_ini = 0\nmr = mt.lddmm(S, T, momentum_ini,\n      kernelOperator = kernel_op,\n      cost_cst=.0001,\n      integration_steps=100,\n      n_iter=15,\n      grad_coef=1,\n      integration_method=\"Eulerian\",\n      dx_convention='pixel',\n)\nmr.plot()\nmr.plot_deform()\nmr.mp.plot()\nplt.show()"
      ]
    }
  ],
  "metadata": {
    "kernelspec": {
      "display_name": "Python 3",
      "language": "python",
      "name": "python3"
    },
    "language_info": {
      "codemirror_mode": {
        "name": "ipython",
        "version": 3
      },
      "file_extension": ".py",
      "mimetype": "text/x-python",
      "name": "python",
      "nbconvert_exporter": "python",
      "pygments_lexer": "ipython3",
      "version": "3.12.8"
    }
  },
  "nbformat": 4,
  "nbformat_minor": 0
}