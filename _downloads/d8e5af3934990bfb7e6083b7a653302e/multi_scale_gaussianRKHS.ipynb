{
  "cells": [
    {
      "cell_type": "markdown",
      "metadata": {},
      "source": [
        "\n\n# A multiscale Gaussian Reproducing Kernel\n\nIn this file we look more closely at the multiscale Gaussian Reproducing Kernel (RK)\nThe multiscale Gaussian RK is build as a sum of Gaussian RK with different\nsigma. In Metamorphosis, the  RK is used to parameterize V the space of\nacceptable vector fields. In practice, it has a smoothing effect on vector fields.\nHowever, Gaussian RK erase the high frequency of the vector fields which\nprevents the vector fields to match small details in the images. To overcome this\nissue, we can use a multiscale Gaussian RK, that will keep smoothing properties\nwhile keeping some high frequency information. It can be seen as a compromise\nkernel.\n\nThe formal definition is:\nLet $\\Gamma = { \\sigma_1, \\sigma_2, \\ldots, \\sigma_n}$ be a list of standard deviations.\n\n\\begin{align}\\mathrm{kernel}_\\Gamma = \\sum_{\\sigma \\in \\Gamma} \\frac {1}{nk_\\sigma} \\exp\\left(\\frac{-x^2}{2 \\sigma^2}\\right)\\end{align}\n\nwhere $n$ is the number of elements in $\\Gamma$.\nif normalised is True, $k$ is equal to:\n\n\\begin{align}k_\\sigma = \\sum_{x \\in Omega}  \\exp\\left(\\frac{-x^2}{2 \\sigma^2}\\right)\\end{align}\n\nelse, $k$ is equal to 1.\n"
      ]
    },
    {
      "cell_type": "markdown",
      "metadata": {},
      "source": [
        "First let's Import the necessary libraries\n\n"
      ]
    },
    {
      "cell_type": "code",
      "execution_count": null,
      "metadata": {
        "collapsed": false
      },
      "outputs": [],
      "source": [
        "import numpy as np\n\nfrom demeter.constants import DLT_KW_IMAGE\nimport matplotlib.pyplot as plt\nimport torch\nimport demeter.utils.reproducing_kernels as rk\nimport demeter.utils.torchbox as tb\n\nplt.rcParams['text.usetex'] = False"
      ]
    },
    {
      "cell_type": "markdown",
      "metadata": {},
      "source": [
        "To use the multi-scale Gaussian RK, we need to choose\na list of sigma. The larger the sigma, the more the RK will\nsmooth the vector fields. The smaller the sigma, the more the RK will\nkeep the high frequency information of the vector fields.\nFeel free to change the sigma_list to see the effect of the RK on next figures\n\n"
      ]
    },
    {
      "cell_type": "code",
      "execution_count": null,
      "metadata": {
        "collapsed": false
      },
      "outputs": [],
      "source": [
        "sigma_list = [\n        # (1,1),\n        (2,2),\n        (5,5),\n        (10,10),\n        # (16,16)\n        # (20,20),\n    ]\nnormalize = True"
      ]
    },
    {
      "cell_type": "markdown",
      "metadata": {},
      "source": [
        "First let's see the kernels of the Gaussian Reproducing Kernel for different sigma\nsuperimposed on the Multi-scale Gaussian Reproducing Kernel. We plot a 1D slice\nof the 2D kernels at its center.\n\n"
      ]
    },
    {
      "cell_type": "code",
      "execution_count": null,
      "metadata": {
        "collapsed": false
      },
      "outputs": [],
      "source": [
        "def see_kernels_filter_2D(sigma_list,ax=None, force_xticks=None):\n\n    mono_gauss = [\n        rk.GaussianRKHS(s,'constant',normalized=normalize)\n        for s in sigma_list\n    ]\n    multi_RKHS = rk.Multi_scale_GaussianRKHS(sigma_list, normalized=normalize)\n    font_size= 20\n    if ax is None:\n        fig,ax = plt.subplots(figsize=(10,5))\n    kernel_multi = multi_RKHS.kernel\n    _,h,w = kernel_multi.shape\n    tick_max = w if force_xticks is None else force_xticks\n    x_scale = (torch.arange(w) - w/2)\n    ax.plot(x_scale,kernel_multi[0,h//2],label=str(sigma_list),c='black')\n    style = ['--','-.',':']\n\n    for i,s in enumerate(sigma_list):\n        kernel_m = mono_gauss[i].kernel\n        _,hh,ww = kernel_m.shape\n\n        # x_scale = (torch.arange(ww)+((tick_max - ww)/2))\n        x_scale = (torch.arange(ww) - ww/2)\n        ax.plot(x_scale,\n                mono_gauss[i].kernel[0,hh//2],\n                label=str(s),linestyle=style[i - 3*(i//3)])\n    ax.set_ylabel(r'$K_\\sigma(x)$',fontsize=font_size)\n    ax.set_xlabel(r'$x$',fontsize=font_size)\n    # tick_max = w if force_xticks is None else force_xticks\n    x_ticks = np.linspace(-tick_max/2,tick_max/2,5)\n    ax.set_xticks(x_ticks)\n    ax.tick_params(axis='both',\n                   #which='minor',\n                   labelsize=font_size)\n    ax.legend(loc='upper left',\n              fontsize=font_size,\n              bbox_to_anchor=(.75, 1.),\n              # ncol=len(sigma_list)+1\n              )\n\nsee_kernels_filter_2D(sigma_list)"
      ]
    },
    {
      "cell_type": "markdown",
      "metadata": {},
      "source": [
        "Now let's visualize the convolution of an image by the Gaussian RKs and the\nmulti-scale Gaussian RK. For visualization purposes, we will use images\nbut keep in mind that the RK is intended to be used on vector fields.\n\n"
      ]
    },
    {
      "cell_type": "code",
      "execution_count": null,
      "metadata": {
        "collapsed": false
      },
      "outputs": [],
      "source": [
        "def see_im_convoled_by_kernel(kernelOp,I,ax):\n    _,_,H,W = I.shape\n    if kernelOp is None:\n        I_g =I\n    else:\n        I_g = kernelOp(I)\n    ax[0].imshow(I_g[0,0], **DLT_KW_IMAGE)\n    ax[1].plot(I_g[0,0,H//2])\n\ndef see_mono_kernels(I,sigma_list):\n    fig,ax = plt.subplots(2,len(sigma_list)+2,figsize=(20,5))\n    fig.suptitle(f'Convolution of an image by a reproducing kernel, {sigma_list}')\n    see_im_convoled_by_kernel(None,I,ax[:,0])\n    for i,s in enumerate(sigma_list):\n        grk = rk.GaussianRKHS(s,'constant')\n        see_im_convoled_by_kernel(grk,I,ax[:,i+1])\n        ax[0,i+1].set_title(r'$\\sigma = $'+str(grk.sigma))\n    mgrk = rk.Multi_scale_GaussianRKHS(sigma_list, normalized=normalize)\n    see_im_convoled_by_kernel(mgrk,I,ax[:,-1])\n    ax[0,-1].set_title(r\"Multi-scale \")\n\n# You can choose different images to see the effect of the RK on them\nimg_name = '01'           # simple disk\nimg_name = 'sri24'      # slice of a brain\nimg = tb.reg_open(img_name,size = (300,300))\n\n\nsee_mono_kernels(img,sigma_list)\n\nplt.show()"
      ]
    }
  ],
  "metadata": {
    "kernelspec": {
      "display_name": "Python 3",
      "language": "python",
      "name": "python3"
    },
    "language_info": {
      "codemirror_mode": {
        "name": "ipython",
        "version": 3
      },
      "file_extension": ".py",
      "mimetype": "text/x-python",
      "name": "python",
      "nbconvert_exporter": "python",
      "pygments_lexer": "ipython3",
      "version": "3.12.8"
    }
  },
  "nbformat": 4,
  "nbformat_minor": 0
}