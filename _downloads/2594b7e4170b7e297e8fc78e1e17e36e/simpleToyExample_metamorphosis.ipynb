{
  "cells": [
    {
      "cell_type": "markdown",
      "metadata": {},
      "source": [
        "\n\n# MetaMorphosis behaviour with different values of rho\n\nThis example shows how the MetaMorphosis behaves with different values of rho.\n\nLet $\\rho \\in [0,1]$, we define the evolution of the image over time as:\n\n\\begin{align}\\dot{I_{t}} = - \\sqrt{ \\rho } v_{t} \\cdot \\nabla I_{t} + \\sqrt{ 1-\\rho } z.\\end{align}\n\nNote: The square roots may seem surprising, but the reason will become clear at the end.\n\nWe define the Hamiltonian:\n\n\\begin{align}H(I,p,v,z) = - (p |\\dot{ I}) - \\frac{1}{2} (Lv|v)_{2} - \\frac{1}{2}(z,z)_{2}.\\end{align}\n\nBy calculating the optimal trajectories we obtain the system:\n\n\\begin{align}\\left\\{     \\begin{array}{rl} v &= - \\sqrt{ \\rho } K_{V} (p \\nabla I)\\\\ \\dot{p} &= -\\sqrt{ \\rho } \\nabla \\cdot (pv) \\\\ z &= \\sqrt{ 1 - \\rho } p \\\\  \\dot{I} &=  - \\sqrt{ \\rho } v_{t} \\cdot \\nabla I_{t} + \\sqrt{ 1-\\rho } z.\\end{array} \\right.\\end{align}\n\nWe notice that we can rewrite:\n\n\\begin{align}\\dot{ I_{t}} = - \\sqrt{ \\rho } v_{t} \\cdot \\nabla I_{t} + \\sqrt{ 1-\\rho } z = -  \\rho K_{V}(p_{t}\\nabla I) \\cdot \\nabla I_{t} +  (1-\\rho) p_{t}.\\end{align}\n\nThis means that the optimal dynamics is the weighted average between the\ncreation of the field and the photometric addition controlled by the momentum $p$.\n"
      ]
    },
    {
      "cell_type": "markdown",
      "metadata": {},
      "source": [
        "Import the necessary packages\n\n"
      ]
    },
    {
      "cell_type": "code",
      "execution_count": null,
      "metadata": {
        "collapsed": false
      },
      "outputs": [],
      "source": [
        "try:\n    import sys, os\n    # add the parent directory to the path\n    base_path  = os.path.join(os.path.dirname(os.path.abspath(__file__)),'..')\n    sys.path.insert(0,base_path)\n    import __init__\n\nexcept NameError:\n    pass\n\n\nimport torch\nimport matplotlib.pyplot as plt\nfrom demeter import *\nimport demeter.utils.reproducing_kernels as rk\nimport demeter.metamorphosis as mt\nimport demeter.utils.torchbox as tb"
      ]
    },
    {
      "cell_type": "markdown",
      "metadata": {},
      "source": [
        "Open and visualise images before registration. The source and target are 'C' shapes.\nThe source is a 'C' shape that is deformed. The target is a 'C' shape that was\ncut in half changing its topology and a point was added. The goal is to register\nthe source to the target by deforming the 'C' shape and accounting the cut\nand the point as intensity additions.\n\n"
      ]
    },
    {
      "cell_type": "code",
      "execution_count": null,
      "metadata": {
        "collapsed": false
      },
      "outputs": [],
      "source": [
        "print(\"ROOT_DIRECTORY : \",ROOT_DIRECTORY)\nsource_name,target_name = 'm0t', 'm1c'\n# other suggestion of images to try\n# source_name,target_name = '17','20'        # easy, only deformation\n# source_name,target_name = '08','m1c'  # hard, big deformation !\nsize = (300,300)\n\nS = tb.reg_open(source_name,size = size)\nT = tb.reg_open(target_name,size = size)\n\nfig, ax = plt.subplots(1,3,figsize=(10,5))\nax[0].imshow(S[0,0],**DLT_KW_IMAGE)\nax[0].set_title('source')\nax[1].imshow(T[0,0],**DLT_KW_IMAGE)\nax[1].set_title('target')\nax[2].imshow(tb.imCmp(S,T,'seg'),origin='lower')\nax[2].set_title('superposition of S and T')\nplt.show()"
      ]
    },
    {
      "cell_type": "markdown",
      "metadata": {},
      "source": [
        "Before choosing the optimisation method, we need to define a\nreproducing kernel and choose a good sigma. The simpler reproducing\nkernel is the Gaussian kernel. To choose the sigma, we can use the\nhelper functions. `get_sigma_from_img_ratio` and `plot_kernel_on_image`.\nThe first one will compute a good sigma to match the level of details desired.\nA big sigma will produce a smoother deformation field that will register better\nbig structures. A smaller sigma will register better small details. The subdivisions\nis basically in how many parts we want to divide the image to get the size\nof wanted details. The second function will plot the kernel on the image to\nhelp us validate our choice of sigma.\n\n"
      ]
    },
    {
      "cell_type": "code",
      "execution_count": null,
      "metadata": {
        "collapsed": false
      },
      "outputs": [],
      "source": [
        "image_subdivisions = 10\nsigma = rk.get_sigma_from_img_ratio(T.shape,subdiv = image_subdivisions)\n\nkernelOperator = rk.GaussianRKHS(sigma,kernel_reach=4)\n\nrk.plot_kernel_on_image(kernelOperator,image= T,subdiv=image_subdivisions)\nplt.show()"
      ]
    },
    {
      "cell_type": "markdown",
      "metadata": {},
      "source": [
        "Perform a first Metamorphosis registration\n\n"
      ]
    },
    {
      "cell_type": "code",
      "execution_count": null,
      "metadata": {
        "collapsed": false
      },
      "outputs": [],
      "source": [
        "if torch.cuda.is_available():\n    device = 'cuda:0'\nelse:\n    device = 'cpu'\nS = S.to(device)\nT = T.to(device)\ndx_convention = 'square'\n# dx_convention = 'pixel'\n\nrho = 0.05\n#\n# data_cost = mt.Ssd_normalized(T)\ndata_cost = mt.Ssd(T)\n\nmr = mt.metamorphosis(S,T,0,\n                      rho,\n                      cost_cst=.001, # If the end result is far from the target, try decreasing the cost constant (reduce regularisation)\n                      kernelOperator=kernelOperator,\n                      integration_steps=10,   # If the deformation is big or complex, try increasing the number of integration steps\n                      n_iter=15,   #   If the optimisation did not converge, try increasing the number of iterations\n                      grad_coef=1,  # if the optimisation diverged, try decreasing the gradient coefficient\n                      dx_convention=dx_convention,\n                    data_term=data_cost,\n                    hamiltonian_integration=True  # Set to true if you want to have control over the intermediate steps of the optimisation\n                      )\n# mr.save(f'round_to_mot_rho{rho}',light_save = True)"
      ]
    },
    {
      "cell_type": "code",
      "execution_count": null,
      "metadata": {
        "collapsed": false
      },
      "outputs": [],
      "source": [
        "_, fig_ax = mr.plot()\nfig_cmp = fig_ax[0]\nfig_def = mr.plot_deform()\nmr.mp.plot()"
      ]
    },
    {
      "cell_type": "markdown",
      "metadata": {},
      "source": [
        "####################################################################\n We will test different values of rho to see how the registration behaves\n with different values of rho. To save you time I already computed the\n optimisation for the values of rho in the files listed in list_optim.\n Feel free to try yourselves If you want to recompute them by setting\n recompute to True. The number of rho to test is set by n_plot.\n\n"
      ]
    },
    {
      "cell_type": "code",
      "execution_count": null,
      "metadata": {
        "collapsed": false
      },
      "outputs": [],
      "source": [
        "list_optim = [\n    \"2D_23_01_2025_simpleToyExample_rho_0.00_000.pk1\",\n    \"2D_23_01_2025_simpleToyExample_rho_0.11_000.pk1\",\n    \"2D_23_01_2025_simpleToyExample_rho_0.22_000.pk1\",\n    \"2D_23_01_2025_simpleToyExample_rho_0.33_000.pk1\",\n    \"2D_23_01_2025_simpleToyExample_rho_0.44_000.pk1\",\n    \"2D_23_01_2025_simpleToyExample_rho_0.56_000.pk1\",\n    \"2D_23_01_2025_simpleToyExample_rho_0.67_000.pk1\",\n    \"2D_23_01_2025_simpleToyExample_rho_0.78_000.pk1\",\n    \"2D_23_01_2025_simpleToyExample_rho_0.89_000.pk1\",\n    \"2D_23_01_2025_simpleToyExample_rho_1.00_000.pk1\",\n]\nrecompute = False\nn_plot = 10\nrho_list = torch.linspace(0,1,n_plot)\n\nfig,ax = plt.subplots(2,n_plot,figsize=(20,5))\n\nfor i,rho in enumerate(rho_list):\n    print(f'\\nrho = {rho}, {i+1}/{n_plot}')\n    if recompute:\n        mr = mt.metamorphosis(S,T,0,\n                          rho,\n                          cost_cst=.001,\n                          kernelOperator=kernelOperator,\n                          integration_steps=10,\n                          n_iter=30,\n                          grad_coef=.1,\n                          dx_convention=dx_convention,\n                          data_term=data_cost,\n                          hamiltonian_integration=True\n                          )\n        mr.save(f'simpleToyExample_rho_{rho:.2f}',light_save = True)\n    else:\n        mr = mt.load_optimize_geodesicShooting(list_optim[i])\n\n    # mr.plot_cost()\n    ax[0,i].set_title(f'rho = {rho:.2f}')\n    ax[0,i].imshow(mr.mp.image[0,0].detach().cpu(),**DLT_KW_IMAGE)\n    deform = mr.mp.get_deformator()\n    img_deform = tb.imgDeform(S.cpu(),deform,dx_convention=dx_convention)\n    ax[1,i].imshow(img_deform[0,0].detach().cpu(),**DLT_KW_IMAGE)\n\n\nplt.show()\n\n# sphinx_gallery_thumbnail_number = 3"
      ]
    }
  ],
  "metadata": {
    "kernelspec": {
      "display_name": "Python 3",
      "language": "python",
      "name": "python3"
    },
    "language_info": {
      "codemirror_mode": {
        "name": "ipython",
        "version": 3
      },
      "file_extension": ".py",
      "mimetype": "text/x-python",
      "name": "python",
      "nbconvert_exporter": "python",
      "pygments_lexer": "ipython3",
      "version": "3.12.8"
    }
  },
  "nbformat": 4,
  "nbformat_minor": 0
}